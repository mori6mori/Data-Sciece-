{
    "metadata": {
        "kernelspec": {
            "name": "python3",
            "display_name": "Python 3 (ipykernel)",
            "language": "python"
        }
    },
    "nbformat": 4,
    "nbformat_minor": 2,
    "cells": [
        {
            "cell_type": "code",
            "execution_count": 1,
            "metadata": {},
            "outputs": [],
            "source": [
                "import pandas as pd\n",
                "import numpy as np"
            ]
        },
        {
            "attachments": {},
            "cell_type": "markdown",
            "metadata": {},
            "source": [
                "## Setting \n",
                "\n",
                "The dataset explores the daily store sales over a given month.\n",
                "\n",
                "|Feature|Explanation|\n",
                "|---|---|\n",
                "|Sales|amount of Sales|\n",
                "|Day|day of the month|\n",
                "\n",
                "* **Only days with sales higher than 0 are included in the table.**\n",
                "* **The table is not ordered**"
            ]
        },
        {
            "cell_type": "code",
            "execution_count": 2,
            "metadata": {},
            "outputs": [
                {
                    "data": {
                        "text/html": "\u003cdiv\u003e\n\u003cstyle scoped\u003e\n    .dataframe tbody tr th:only-of-type {\n        vertical-align: middle;\n    }\n\n    .dataframe tbody tr th {\n        vertical-align: top;\n    }\n\n    .dataframe thead th {\n        text-align: right;\n    }\n\u003c/style\u003e\n\u003ctable border=\"1\" class=\"dataframe\"\u003e\n  \u003cthead\u003e\n    \u003ctr style=\"text-align: right;\"\u003e\n      \u003cth\u003e\u003c/th\u003e\n      \u003cth\u003eSales\u003c/th\u003e\n      \u003cth\u003eDay\u003c/th\u003e\n    \u003c/tr\u003e\n  \u003c/thead\u003e\n  \u003ctbody\u003e\n    \u003ctr\u003e\n      \u003cth\u003e0\u003c/th\u003e\n      \u003ctd\u003e4648\u003c/td\u003e\n      \u003ctd\u003e14\u003c/td\u003e\n    \u003c/tr\u003e\n    \u003ctr\u003e\n      \u003cth\u003e1\u003c/th\u003e\n      \u003ctd\u003e5575\u003c/td\u003e\n      \u003ctd\u003e27\u003c/td\u003e\n    \u003c/tr\u003e\n    \u003ctr\u003e\n      \u003cth\u003e2\u003c/th\u003e\n      \u003ctd\u003e4194\u003c/td\u003e\n      \u003ctd\u003e8\u003c/td\u003e\n    \u003c/tr\u003e\n    \u003ctr\u003e\n      \u003cth\u003e3\u003c/th\u003e\n      \u003ctd\u003e5377\u003c/td\u003e\n      \u003ctd\u003e13\u003c/td\u003e\n    \u003c/tr\u003e\n    \u003ctr\u003e\n      \u003cth\u003e4\u003c/th\u003e\n      \u003ctd\u003e6574\u003c/td\u003e\n      \u003ctd\u003e2\u003c/td\u003e\n    \u003c/tr\u003e\n    \u003ctr\u003e\n      \u003cth\u003e5\u003c/th\u003e\n      \u003ctd\u003e3722\u003c/td\u003e\n      \u003ctd\u003e20\u003c/td\u003e\n    \u003c/tr\u003e\n    \u003ctr\u003e\n      \u003cth\u003e6\u003c/th\u003e\n      \u003ctd\u003e3319\u003c/td\u003e\n      \u003ctd\u003e22\u003c/td\u003e\n    \u003c/tr\u003e\n    \u003ctr\u003e\n      \u003cth\u003e7\u003c/th\u003e\n      \u003ctd\u003e4594\u003c/td\u003e\n      \u003ctd\u003e18\u003c/td\u003e\n    \u003c/tr\u003e\n    \u003ctr\u003e\n      \u003cth\u003e8\u003c/th\u003e\n      \u003ctd\u003e4110\u003c/td\u003e\n      \u003ctd\u003e15\u003c/td\u003e\n    \u003c/tr\u003e\n    \u003ctr\u003e\n      \u003cth\u003e9\u003c/th\u003e\n      \u003ctd\u003e4116\u003c/td\u003e\n      \u003ctd\u003e16\u003c/td\u003e\n    \u003c/tr\u003e\n    \u003ctr\u003e\n      \u003cth\u003e10\u003c/th\u003e\n      \u003ctd\u003e4173\u003c/td\u003e\n      \u003ctd\u003e11\u003c/td\u003e\n    \u003c/tr\u003e\n    \u003ctr\u003e\n      \u003cth\u003e11\u003c/th\u003e\n      \u003ctd\u003e6816\u003c/td\u003e\n      \u003ctd\u003e1\u003c/td\u003e\n    \u003c/tr\u003e\n    \u003ctr\u003e\n      \u003cth\u003e12\u003c/th\u003e\n      \u003ctd\u003e5775\u003c/td\u003e\n      \u003ctd\u003e29\u003c/td\u003e\n    \u003c/tr\u003e\n    \u003ctr\u003e\n      \u003cth\u003e13\u003c/th\u003e\n      \u003ctd\u003e6709\u003c/td\u003e\n      \u003ctd\u003e4\u003c/td\u003e\n    \u003c/tr\u003e\n    \u003ctr\u003e\n      \u003cth\u003e14\u003c/th\u003e\n      \u003ctd\u003e4163\u003c/td\u003e\n      \u003ctd\u003e7\u003c/td\u003e\n    \u003c/tr\u003e\n    \u003ctr\u003e\n      \u003cth\u003e15\u003c/th\u003e\n      \u003ctd\u003e4318\u003c/td\u003e\n      \u003ctd\u003e25\u003c/td\u003e\n    \u003c/tr\u003e\n    \u003ctr\u003e\n      \u003cth\u003e16\u003c/th\u003e\n      \u003ctd\u003e3037\u003c/td\u003e\n      \u003ctd\u003e21\u003c/td\u003e\n    \u003c/tr\u003e\n    \u003ctr\u003e\n      \u003cth\u003e17\u003c/th\u003e\n      \u003ctd\u003e3549\u003c/td\u003e\n      \u003ctd\u003e10\u003c/td\u003e\n    \u003c/tr\u003e\n    \u003ctr\u003e\n      \u003cth\u003e18\u003c/th\u003e\n      \u003ctd\u003e6228\u003c/td\u003e\n      \u003ctd\u003e30\u003c/td\u003e\n    \u003c/tr\u003e\n    \u003ctr\u003e\n      \u003cth\u003e19\u003c/th\u003e\n      \u003ctd\u003e3076\u003c/td\u003e\n      \u003ctd\u003e23\u003c/td\u003e\n    \u003c/tr\u003e\n    \u003ctr\u003e\n      \u003cth\u003e20\u003c/th\u003e\n      \u003ctd\u003e3198\u003c/td\u003e\n      \u003ctd\u003e24\u003c/td\u003e\n    \u003c/tr\u003e\n    \u003ctr\u003e\n      \u003cth\u003e21\u003c/th\u003e\n      \u003ctd\u003e4718\u003c/td\u003e\n      \u003ctd\u003e17\u003c/td\u003e\n    \u003c/tr\u003e\n    \u003ctr\u003e\n      \u003cth\u003e22\u003c/th\u003e\n      \u003ctd\u003e3467\u003c/td\u003e\n      \u003ctd\u003e9\u003c/td\u003e\n    \u003c/tr\u003e\n    \u003ctr\u003e\n      \u003cth\u003e23\u003c/th\u003e\n      \u003ctd\u003e5199\u003c/td\u003e\n      \u003ctd\u003e28\u003c/td\u003e\n    \u003c/tr\u003e\n  \u003c/tbody\u003e\n\u003c/table\u003e\n\u003c/div\u003e",
                        "text/plain": "    Sales  Day\n0    4648   14\n1    5575   27\n2    4194    8\n3    5377   13\n4    6574    2\n5    3722   20\n6    3319   22\n7    4594   18\n8    4110   15\n9    4116   16\n10   4173   11\n11   6816    1\n12   5775   29\n13   6709    4\n14   4163    7\n15   4318   25\n16   3037   21\n17   3549   10\n18   6228   30\n19   3076   23\n20   3198   24\n21   4718   17\n22   3467    9\n23   5199   28"
                    },
                    "execution_count": 2,
                    "metadata": {},
                    "output_type": "execute_result"
                }
            ],
            "source": [
                "Sales=pd.read_pickle(\"StoreSales.pkl\")  \n",
                "Sales"
            ]
        },
        {
            "attachments": {},
            "cell_type": "markdown",
            "metadata": {},
            "source": [
                "## Q1. [15 Points]\n",
                "\n",
                "Construct the table as following:\n",
                "\n",
                "\u003ctable\u003e\n",
                "    \u003ctr\u003e\n",
                "        \u003cth\u003e\u003c/th\u003e\n",
                "        \u003cth\u003eDayOfWeek\u003c/th\u003e\n",
                "        \u003cth\u003eSales\u003c/th\u003e\n",
                "    \u003c/tr\u003e\n",
                "    \u003ctr\u003e\n",
                "        \u003cth\u003eDay\u003c/th\u003e\n",
                "        \u003cth\u003e\u003c/td\u003e\n",
                "        \u003cth\u003e\u003c/td\u003e\n",
                "    \u003c/tr\u003e\n",
                "    \u003ctr\u003e\n",
                "        \u003cth\u003e1\u003c/th\u003e\n",
                "        \u003ctd\u003eWed\u003c/td\u003e\n",
                "        \u003ctd\u003e6816.0\u003c/td\u003e\n",
                "    \u003c/tr\u003e\n",
                "    \u003ctr\u003e\n",
                "        \u003cth\u003e2\u003c/th\u003e\n",
                "        \u003ctd\u003eThu\u003c/td\u003e\n",
                "        \u003ctd\u003e6574.0\u003c/td\u003e\n",
                "    \u003c/tr\u003e\n",
                "    \u003ctr\u003e\n",
                "        \u003cth\u003e3\u003c/th\u003e\n",
                "        \u003ctd\u003eFri\u003c/td\u003e\n",
                "        \u003ctd\u003e0.0\u003c/td\u003e\n",
                "    \u003c/tr\u003e\n",
                "    \u003ctr\u003e\n",
                "        \u003cth\u003e...\u003c/th\u003e\n",
                "        \u003ctd\u003e...\u003c/td\u003e\n",
                "        \u003ctd\u003e...\u003c/td\u003e\n",
                "    \u003c/tr\u003e\n",
                "    \u003ctr\u003e\n",
                "        \u003cth\u003e30\u003c/th\u003e\n",
                "        \u003ctd\u003eThu\u003c/td\u003e\n",
                "        \u003ctd\u003e6228.0\u003c/td\u003e\n",
                "    \u003c/tr\u003e\n",
                "\u003c/table\u003e\n",
                "\n",
                "\n",
                "\n",
                "Requirement:\n",
                "\n",
                "* This table has 30 rows, one for each day of the month, following chronological order. If a day has no sales, record sales as 0. \n",
                "* When constructing `DayOfWeek`, use `NumPy` manipulations on `Day1` list instead of creating 30 elements manually. **Assume that you know there are 30 days in the month and this month starts from Wednesday.**\n",
                "* Your table should be the exactly the same as `Q1` DataFrame. You can use `Q1` DataFrame for Q2. \n",
                ""
            ]
        },
        {
            "cell_type": "code",
            "execution_count": 3,
            "metadata": {},
            "outputs": [
                {
                    "data": {
                        "text/plain": "['Wed', 'Thu', 'Fri', 'Sat', 'Sun', 'Mon', 'Tue']"
                    },
                    "execution_count": 3,
                    "metadata": {},
                    "output_type": "execute_result"
                }
            ],
            "source": [
                "Day1=[\"Wed\",\"Thu\",\"Fri\",\"Sat\",\"Sun\",\"Mon\",\"Tue\"]\n",
                "Day1"
            ]
        },
        {
            "cell_type": "code",
            "execution_count": 4,
            "metadata": {},
            "outputs": [
                {
                    "data": {
                        "text/html": "\u003cdiv\u003e\n\u003cstyle scoped\u003e\n    .dataframe tbody tr th:only-of-type {\n        vertical-align: middle;\n    }\n\n    .dataframe tbody tr th {\n        vertical-align: top;\n    }\n\n    .dataframe thead th {\n        text-align: right;\n    }\n\u003c/style\u003e\n\u003ctable border=\"1\" class=\"dataframe\"\u003e\n  \u003cthead\u003e\n    \u003ctr style=\"text-align: right;\"\u003e\n      \u003cth\u003e\u003c/th\u003e\n      \u003cth\u003eSales\u003c/th\u003e\n      \u003cth\u003eDay\u003c/th\u003e\n    \u003c/tr\u003e\n  \u003c/thead\u003e\n  \u003ctbody\u003e\n    \u003ctr\u003e\n      \u003cth\u003e11\u003c/th\u003e\n      \u003ctd\u003e6816\u003c/td\u003e\n      \u003ctd\u003e1\u003c/td\u003e\n    \u003c/tr\u003e\n    \u003ctr\u003e\n      \u003cth\u003e4\u003c/th\u003e\n      \u003ctd\u003e6574\u003c/td\u003e\n      \u003ctd\u003e2\u003c/td\u003e\n    \u003c/tr\u003e\n    \u003ctr\u003e\n      \u003cth\u003e13\u003c/th\u003e\n      \u003ctd\u003e6709\u003c/td\u003e\n      \u003ctd\u003e4\u003c/td\u003e\n    \u003c/tr\u003e\n    \u003ctr\u003e\n      \u003cth\u003e14\u003c/th\u003e\n      \u003ctd\u003e4163\u003c/td\u003e\n      \u003ctd\u003e7\u003c/td\u003e\n    \u003c/tr\u003e\n    \u003ctr\u003e\n      \u003cth\u003e2\u003c/th\u003e\n      \u003ctd\u003e4194\u003c/td\u003e\n      \u003ctd\u003e8\u003c/td\u003e\n    \u003c/tr\u003e\n    \u003ctr\u003e\n      \u003cth\u003e22\u003c/th\u003e\n      \u003ctd\u003e3467\u003c/td\u003e\n      \u003ctd\u003e9\u003c/td\u003e\n    \u003c/tr\u003e\n    \u003ctr\u003e\n      \u003cth\u003e17\u003c/th\u003e\n      \u003ctd\u003e3549\u003c/td\u003e\n      \u003ctd\u003e10\u003c/td\u003e\n    \u003c/tr\u003e\n    \u003ctr\u003e\n      \u003cth\u003e10\u003c/th\u003e\n      \u003ctd\u003e4173\u003c/td\u003e\n      \u003ctd\u003e11\u003c/td\u003e\n    \u003c/tr\u003e\n    \u003ctr\u003e\n      \u003cth\u003e3\u003c/th\u003e\n      \u003ctd\u003e5377\u003c/td\u003e\n      \u003ctd\u003e13\u003c/td\u003e\n    \u003c/tr\u003e\n    \u003ctr\u003e\n      \u003cth\u003e0\u003c/th\u003e\n      \u003ctd\u003e4648\u003c/td\u003e\n      \u003ctd\u003e14\u003c/td\u003e\n    \u003c/tr\u003e\n    \u003ctr\u003e\n      \u003cth\u003e8\u003c/th\u003e\n      \u003ctd\u003e4110\u003c/td\u003e\n      \u003ctd\u003e15\u003c/td\u003e\n    \u003c/tr\u003e\n    \u003ctr\u003e\n      \u003cth\u003e9\u003c/th\u003e\n      \u003ctd\u003e4116\u003c/td\u003e\n      \u003ctd\u003e16\u003c/td\u003e\n    \u003c/tr\u003e\n    \u003ctr\u003e\n      \u003cth\u003e21\u003c/th\u003e\n      \u003ctd\u003e4718\u003c/td\u003e\n      \u003ctd\u003e17\u003c/td\u003e\n    \u003c/tr\u003e\n    \u003ctr\u003e\n      \u003cth\u003e7\u003c/th\u003e\n      \u003ctd\u003e4594\u003c/td\u003e\n      \u003ctd\u003e18\u003c/td\u003e\n    \u003c/tr\u003e\n    \u003ctr\u003e\n      \u003cth\u003e5\u003c/th\u003e\n      \u003ctd\u003e3722\u003c/td\u003e\n      \u003ctd\u003e20\u003c/td\u003e\n    \u003c/tr\u003e\n    \u003ctr\u003e\n      \u003cth\u003e16\u003c/th\u003e\n      \u003ctd\u003e3037\u003c/td\u003e\n      \u003ctd\u003e21\u003c/td\u003e\n    \u003c/tr\u003e\n    \u003ctr\u003e\n      \u003cth\u003e6\u003c/th\u003e\n      \u003ctd\u003e3319\u003c/td\u003e\n      \u003ctd\u003e22\u003c/td\u003e\n    \u003c/tr\u003e\n    \u003ctr\u003e\n      \u003cth\u003e19\u003c/th\u003e\n      \u003ctd\u003e3076\u003c/td\u003e\n      \u003ctd\u003e23\u003c/td\u003e\n    \u003c/tr\u003e\n    \u003ctr\u003e\n      \u003cth\u003e20\u003c/th\u003e\n      \u003ctd\u003e3198\u003c/td\u003e\n      \u003ctd\u003e24\u003c/td\u003e\n    \u003c/tr\u003e\n    \u003ctr\u003e\n      \u003cth\u003e15\u003c/th\u003e\n      \u003ctd\u003e4318\u003c/td\u003e\n      \u003ctd\u003e25\u003c/td\u003e\n    \u003c/tr\u003e\n    \u003ctr\u003e\n      \u003cth\u003e1\u003c/th\u003e\n      \u003ctd\u003e5575\u003c/td\u003e\n      \u003ctd\u003e27\u003c/td\u003e\n    \u003c/tr\u003e\n    \u003ctr\u003e\n      \u003cth\u003e23\u003c/th\u003e\n      \u003ctd\u003e5199\u003c/td\u003e\n      \u003ctd\u003e28\u003c/td\u003e\n    \u003c/tr\u003e\n    \u003ctr\u003e\n      \u003cth\u003e12\u003c/th\u003e\n      \u003ctd\u003e5775\u003c/td\u003e\n      \u003ctd\u003e29\u003c/td\u003e\n    \u003c/tr\u003e\n    \u003ctr\u003e\n      \u003cth\u003e18\u003c/th\u003e\n      \u003ctd\u003e6228\u003c/td\u003e\n      \u003ctd\u003e30\u003c/td\u003e\n    \u003c/tr\u003e\n  \u003c/tbody\u003e\n\u003c/table\u003e\n\u003c/div\u003e",
                        "text/plain": "    Sales  Day\n11   6816    1\n4    6574    2\n13   6709    4\n14   4163    7\n2    4194    8\n22   3467    9\n17   3549   10\n10   4173   11\n3    5377   13\n0    4648   14\n8    4110   15\n9    4116   16\n21   4718   17\n7    4594   18\n5    3722   20\n16   3037   21\n6    3319   22\n19   3076   23\n20   3198   24\n15   4318   25\n1    5575   27\n23   5199   28\n12   5775   29\n18   6228   30"
                    },
                    "execution_count": 4,
                    "metadata": {},
                    "output_type": "execute_result"
                }
            ],
            "source": [
                "\n",
                "Sales.sort_values (by ='Day', inplace= True)\n",
                "\n",
                "Day = np.arange (1,31)\n",
                "\n",
                "Sales"
            ]
        },
        {
            "cell_type": "code",
            "execution_count": 5,
            "metadata": {},
            "outputs": [
                {
                    "data": {
                        "text/html": "\u003cdiv\u003e\n\u003cstyle scoped\u003e\n    .dataframe tbody tr th:only-of-type {\n        vertical-align: middle;\n    }\n\n    .dataframe tbody tr th {\n        vertical-align: top;\n    }\n\n    .dataframe thead th {\n        text-align: right;\n    }\n\u003c/style\u003e\n\u003ctable border=\"1\" class=\"dataframe\"\u003e\n  \u003cthead\u003e\n    \u003ctr style=\"text-align: right;\"\u003e\n      \u003cth\u003e\u003c/th\u003e\n      \u003cth\u003eDay\u003c/th\u003e\n      \u003cth\u003eSales\u003c/th\u003e\n    \u003c/tr\u003e\n  \u003c/thead\u003e\n  \u003ctbody\u003e\n    \u003ctr\u003e\n      \u003cth\u003e0\u003c/th\u003e\n      \u003ctd\u003e1\u003c/td\u003e\n      \u003ctd\u003e6816.0\u003c/td\u003e\n    \u003c/tr\u003e\n    \u003ctr\u003e\n      \u003cth\u003e1\u003c/th\u003e\n      \u003ctd\u003e2\u003c/td\u003e\n      \u003ctd\u003e6574.0\u003c/td\u003e\n    \u003c/tr\u003e\n    \u003ctr\u003e\n      \u003cth\u003e2\u003c/th\u003e\n      \u003ctd\u003e3\u003c/td\u003e\n      \u003ctd\u003eNaN\u003c/td\u003e\n    \u003c/tr\u003e\n    \u003ctr\u003e\n      \u003cth\u003e3\u003c/th\u003e\n      \u003ctd\u003e4\u003c/td\u003e\n      \u003ctd\u003e6709.0\u003c/td\u003e\n    \u003c/tr\u003e\n    \u003ctr\u003e\n      \u003cth\u003e4\u003c/th\u003e\n      \u003ctd\u003e5\u003c/td\u003e\n      \u003ctd\u003eNaN\u003c/td\u003e\n    \u003c/tr\u003e\n    \u003ctr\u003e\n      \u003cth\u003e5\u003c/th\u003e\n      \u003ctd\u003e6\u003c/td\u003e\n      \u003ctd\u003eNaN\u003c/td\u003e\n    \u003c/tr\u003e\n    \u003ctr\u003e\n      \u003cth\u003e6\u003c/th\u003e\n      \u003ctd\u003e7\u003c/td\u003e\n      \u003ctd\u003e4163.0\u003c/td\u003e\n    \u003c/tr\u003e\n    \u003ctr\u003e\n      \u003cth\u003e7\u003c/th\u003e\n      \u003ctd\u003e8\u003c/td\u003e\n      \u003ctd\u003e4194.0\u003c/td\u003e\n    \u003c/tr\u003e\n    \u003ctr\u003e\n      \u003cth\u003e8\u003c/th\u003e\n      \u003ctd\u003e9\u003c/td\u003e\n      \u003ctd\u003e3467.0\u003c/td\u003e\n    \u003c/tr\u003e\n    \u003ctr\u003e\n      \u003cth\u003e9\u003c/th\u003e\n      \u003ctd\u003e10\u003c/td\u003e\n      \u003ctd\u003e3549.0\u003c/td\u003e\n    \u003c/tr\u003e\n    \u003ctr\u003e\n      \u003cth\u003e10\u003c/th\u003e\n      \u003ctd\u003e11\u003c/td\u003e\n      \u003ctd\u003e4173.0\u003c/td\u003e\n    \u003c/tr\u003e\n    \u003ctr\u003e\n      \u003cth\u003e11\u003c/th\u003e\n      \u003ctd\u003e12\u003c/td\u003e\n      \u003ctd\u003eNaN\u003c/td\u003e\n    \u003c/tr\u003e\n    \u003ctr\u003e\n      \u003cth\u003e12\u003c/th\u003e\n      \u003ctd\u003e13\u003c/td\u003e\n      \u003ctd\u003e5377.0\u003c/td\u003e\n    \u003c/tr\u003e\n    \u003ctr\u003e\n      \u003cth\u003e13\u003c/th\u003e\n      \u003ctd\u003e14\u003c/td\u003e\n      \u003ctd\u003e4648.0\u003c/td\u003e\n    \u003c/tr\u003e\n    \u003ctr\u003e\n      \u003cth\u003e14\u003c/th\u003e\n      \u003ctd\u003e15\u003c/td\u003e\n      \u003ctd\u003e4110.0\u003c/td\u003e\n    \u003c/tr\u003e\n    \u003ctr\u003e\n      \u003cth\u003e15\u003c/th\u003e\n      \u003ctd\u003e16\u003c/td\u003e\n      \u003ctd\u003e4116.0\u003c/td\u003e\n    \u003c/tr\u003e\n    \u003ctr\u003e\n      \u003cth\u003e16\u003c/th\u003e\n      \u003ctd\u003e17\u003c/td\u003e\n      \u003ctd\u003e4718.0\u003c/td\u003e\n    \u003c/tr\u003e\n    \u003ctr\u003e\n      \u003cth\u003e17\u003c/th\u003e\n      \u003ctd\u003e18\u003c/td\u003e\n      \u003ctd\u003e4594.0\u003c/td\u003e\n    \u003c/tr\u003e\n    \u003ctr\u003e\n      \u003cth\u003e18\u003c/th\u003e\n      \u003ctd\u003e19\u003c/td\u003e\n      \u003ctd\u003eNaN\u003c/td\u003e\n    \u003c/tr\u003e\n    \u003ctr\u003e\n      \u003cth\u003e19\u003c/th\u003e\n      \u003ctd\u003e20\u003c/td\u003e\n      \u003ctd\u003e3722.0\u003c/td\u003e\n    \u003c/tr\u003e\n    \u003ctr\u003e\n      \u003cth\u003e20\u003c/th\u003e\n      \u003ctd\u003e21\u003c/td\u003e\n      \u003ctd\u003e3037.0\u003c/td\u003e\n    \u003c/tr\u003e\n    \u003ctr\u003e\n      \u003cth\u003e21\u003c/th\u003e\n      \u003ctd\u003e22\u003c/td\u003e\n      \u003ctd\u003e3319.0\u003c/td\u003e\n    \u003c/tr\u003e\n    \u003ctr\u003e\n      \u003cth\u003e22\u003c/th\u003e\n      \u003ctd\u003e23\u003c/td\u003e\n      \u003ctd\u003e3076.0\u003c/td\u003e\n    \u003c/tr\u003e\n    \u003ctr\u003e\n      \u003cth\u003e23\u003c/th\u003e\n      \u003ctd\u003e24\u003c/td\u003e\n      \u003ctd\u003e3198.0\u003c/td\u003e\n    \u003c/tr\u003e\n    \u003ctr\u003e\n      \u003cth\u003e24\u003c/th\u003e\n      \u003ctd\u003e25\u003c/td\u003e\n      \u003ctd\u003e4318.0\u003c/td\u003e\n    \u003c/tr\u003e\n    \u003ctr\u003e\n      \u003cth\u003e25\u003c/th\u003e\n      \u003ctd\u003e26\u003c/td\u003e\n      \u003ctd\u003eNaN\u003c/td\u003e\n    \u003c/tr\u003e\n    \u003ctr\u003e\n      \u003cth\u003e26\u003c/th\u003e\n      \u003ctd\u003e27\u003c/td\u003e\n      \u003ctd\u003e5575.0\u003c/td\u003e\n    \u003c/tr\u003e\n    \u003ctr\u003e\n      \u003cth\u003e27\u003c/th\u003e\n      \u003ctd\u003e28\u003c/td\u003e\n      \u003ctd\u003e5199.0\u003c/td\u003e\n    \u003c/tr\u003e\n    \u003ctr\u003e\n      \u003cth\u003e28\u003c/th\u003e\n      \u003ctd\u003e29\u003c/td\u003e\n      \u003ctd\u003e5775.0\u003c/td\u003e\n    \u003c/tr\u003e\n    \u003ctr\u003e\n      \u003cth\u003e29\u003c/th\u003e\n      \u003ctd\u003e30\u003c/td\u003e\n      \u003ctd\u003e6228.0\u003c/td\u003e\n    \u003c/tr\u003e\n  \u003c/tbody\u003e\n\u003c/table\u003e\n\u003c/div\u003e",
                        "text/plain": "    Day   Sales\n0     1  6816.0\n1     2  6574.0\n2     3     NaN\n3     4  6709.0\n4     5     NaN\n5     6     NaN\n6     7  4163.0\n7     8  4194.0\n8     9  3467.0\n9    10  3549.0\n10   11  4173.0\n11   12     NaN\n12   13  5377.0\n13   14  4648.0\n14   15  4110.0\n15   16  4116.0\n16   17  4718.0\n17   18  4594.0\n18   19     NaN\n19   20  3722.0\n20   21  3037.0\n21   22  3319.0\n22   23  3076.0\n23   24  3198.0\n24   25  4318.0\n25   26     NaN\n26   27  5575.0\n27   28  5199.0\n28   29  5775.0\n29   30  6228.0"
                    },
                    "metadata": {},
                    "output_type": "display_data"
                }
            ],
            "source": [
                "Day_table = pd.DataFrame({\"Day\" : Day})\n",
                "\n",
                "Day_table2 = pd.merge (Day_table, Sales, how = \"left\")\n",
                "display(Day_table2)"
            ]
        },
        {
            "cell_type": "code",
            "execution_count": 6,
            "metadata": {},
            "outputs": [
                {
                    "data": {
                        "text/html": "\u003cdiv\u003e\n\u003cstyle scoped\u003e\n    .dataframe tbody tr th:only-of-type {\n        vertical-align: middle;\n    }\n\n    .dataframe tbody tr th {\n        vertical-align: top;\n    }\n\n    .dataframe thead th {\n        text-align: right;\n    }\n\u003c/style\u003e\n\u003ctable border=\"1\" class=\"dataframe\"\u003e\n  \u003cthead\u003e\n    \u003ctr style=\"text-align: right;\"\u003e\n      \u003cth\u003e\u003c/th\u003e\n      \u003cth\u003eDay\u003c/th\u003e\n      \u003cth\u003eSales\u003c/th\u003e\n      \u003cth\u003eDayOfWeek\u003c/th\u003e\n    \u003c/tr\u003e\n  \u003c/thead\u003e\n  \u003ctbody\u003e\n    \u003ctr\u003e\n      \u003cth\u003e0\u003c/th\u003e\n      \u003ctd\u003e1\u003c/td\u003e\n      \u003ctd\u003e6816.0\u003c/td\u003e\n      \u003ctd\u003eWed\u003c/td\u003e\n    \u003c/tr\u003e\n    \u003ctr\u003e\n      \u003cth\u003e1\u003c/th\u003e\n      \u003ctd\u003e2\u003c/td\u003e\n      \u003ctd\u003e6574.0\u003c/td\u003e\n      \u003ctd\u003eThu\u003c/td\u003e\n    \u003c/tr\u003e\n    \u003ctr\u003e\n      \u003cth\u003e2\u003c/th\u003e\n      \u003ctd\u003e3\u003c/td\u003e\n      \u003ctd\u003e0.0\u003c/td\u003e\n      \u003ctd\u003eFri\u003c/td\u003e\n    \u003c/tr\u003e\n    \u003ctr\u003e\n      \u003cth\u003e3\u003c/th\u003e\n      \u003ctd\u003e4\u003c/td\u003e\n      \u003ctd\u003e6709.0\u003c/td\u003e\n      \u003ctd\u003eSat\u003c/td\u003e\n    \u003c/tr\u003e\n    \u003ctr\u003e\n      \u003cth\u003e4\u003c/th\u003e\n      \u003ctd\u003e5\u003c/td\u003e\n      \u003ctd\u003e0.0\u003c/td\u003e\n      \u003ctd\u003eSun\u003c/td\u003e\n    \u003c/tr\u003e\n    \u003ctr\u003e\n      \u003cth\u003e5\u003c/th\u003e\n      \u003ctd\u003e6\u003c/td\u003e\n      \u003ctd\u003e0.0\u003c/td\u003e\n      \u003ctd\u003eMon\u003c/td\u003e\n    \u003c/tr\u003e\n    \u003ctr\u003e\n      \u003cth\u003e6\u003c/th\u003e\n      \u003ctd\u003e7\u003c/td\u003e\n      \u003ctd\u003e4163.0\u003c/td\u003e\n      \u003ctd\u003eTue\u003c/td\u003e\n    \u003c/tr\u003e\n    \u003ctr\u003e\n      \u003cth\u003e7\u003c/th\u003e\n      \u003ctd\u003e8\u003c/td\u003e\n      \u003ctd\u003e4194.0\u003c/td\u003e\n      \u003ctd\u003eWed\u003c/td\u003e\n    \u003c/tr\u003e\n    \u003ctr\u003e\n      \u003cth\u003e8\u003c/th\u003e\n      \u003ctd\u003e9\u003c/td\u003e\n      \u003ctd\u003e3467.0\u003c/td\u003e\n      \u003ctd\u003eThu\u003c/td\u003e\n    \u003c/tr\u003e\n    \u003ctr\u003e\n      \u003cth\u003e9\u003c/th\u003e\n      \u003ctd\u003e10\u003c/td\u003e\n      \u003ctd\u003e3549.0\u003c/td\u003e\n      \u003ctd\u003eFri\u003c/td\u003e\n    \u003c/tr\u003e\n    \u003ctr\u003e\n      \u003cth\u003e10\u003c/th\u003e\n      \u003ctd\u003e11\u003c/td\u003e\n      \u003ctd\u003e4173.0\u003c/td\u003e\n      \u003ctd\u003eSat\u003c/td\u003e\n    \u003c/tr\u003e\n    \u003ctr\u003e\n      \u003cth\u003e11\u003c/th\u003e\n      \u003ctd\u003e12\u003c/td\u003e\n      \u003ctd\u003e0.0\u003c/td\u003e\n      \u003ctd\u003eSun\u003c/td\u003e\n    \u003c/tr\u003e\n    \u003ctr\u003e\n      \u003cth\u003e12\u003c/th\u003e\n      \u003ctd\u003e13\u003c/td\u003e\n      \u003ctd\u003e5377.0\u003c/td\u003e\n      \u003ctd\u003eMon\u003c/td\u003e\n    \u003c/tr\u003e\n    \u003ctr\u003e\n      \u003cth\u003e13\u003c/th\u003e\n      \u003ctd\u003e14\u003c/td\u003e\n      \u003ctd\u003e4648.0\u003c/td\u003e\n      \u003ctd\u003eTue\u003c/td\u003e\n    \u003c/tr\u003e\n    \u003ctr\u003e\n      \u003cth\u003e14\u003c/th\u003e\n      \u003ctd\u003e15\u003c/td\u003e\n      \u003ctd\u003e4110.0\u003c/td\u003e\n      \u003ctd\u003eWed\u003c/td\u003e\n    \u003c/tr\u003e\n    \u003ctr\u003e\n      \u003cth\u003e15\u003c/th\u003e\n      \u003ctd\u003e16\u003c/td\u003e\n      \u003ctd\u003e4116.0\u003c/td\u003e\n      \u003ctd\u003eThu\u003c/td\u003e\n    \u003c/tr\u003e\n    \u003ctr\u003e\n      \u003cth\u003e16\u003c/th\u003e\n      \u003ctd\u003e17\u003c/td\u003e\n      \u003ctd\u003e4718.0\u003c/td\u003e\n      \u003ctd\u003eFri\u003c/td\u003e\n    \u003c/tr\u003e\n    \u003ctr\u003e\n      \u003cth\u003e17\u003c/th\u003e\n      \u003ctd\u003e18\u003c/td\u003e\n      \u003ctd\u003e4594.0\u003c/td\u003e\n      \u003ctd\u003eSat\u003c/td\u003e\n    \u003c/tr\u003e\n    \u003ctr\u003e\n      \u003cth\u003e18\u003c/th\u003e\n      \u003ctd\u003e19\u003c/td\u003e\n      \u003ctd\u003e0.0\u003c/td\u003e\n      \u003ctd\u003eSun\u003c/td\u003e\n    \u003c/tr\u003e\n    \u003ctr\u003e\n      \u003cth\u003e19\u003c/th\u003e\n      \u003ctd\u003e20\u003c/td\u003e\n      \u003ctd\u003e3722.0\u003c/td\u003e\n      \u003ctd\u003eMon\u003c/td\u003e\n    \u003c/tr\u003e\n    \u003ctr\u003e\n      \u003cth\u003e20\u003c/th\u003e\n      \u003ctd\u003e21\u003c/td\u003e\n      \u003ctd\u003e3037.0\u003c/td\u003e\n      \u003ctd\u003eTue\u003c/td\u003e\n    \u003c/tr\u003e\n    \u003ctr\u003e\n      \u003cth\u003e21\u003c/th\u003e\n      \u003ctd\u003e22\u003c/td\u003e\n      \u003ctd\u003e3319.0\u003c/td\u003e\n      \u003ctd\u003eWed\u003c/td\u003e\n    \u003c/tr\u003e\n    \u003ctr\u003e\n      \u003cth\u003e22\u003c/th\u003e\n      \u003ctd\u003e23\u003c/td\u003e\n      \u003ctd\u003e3076.0\u003c/td\u003e\n      \u003ctd\u003eThu\u003c/td\u003e\n    \u003c/tr\u003e\n    \u003ctr\u003e\n      \u003cth\u003e23\u003c/th\u003e\n      \u003ctd\u003e24\u003c/td\u003e\n      \u003ctd\u003e3198.0\u003c/td\u003e\n      \u003ctd\u003eFri\u003c/td\u003e\n    \u003c/tr\u003e\n    \u003ctr\u003e\n      \u003cth\u003e24\u003c/th\u003e\n      \u003ctd\u003e25\u003c/td\u003e\n      \u003ctd\u003e4318.0\u003c/td\u003e\n      \u003ctd\u003eSat\u003c/td\u003e\n    \u003c/tr\u003e\n    \u003ctr\u003e\n      \u003cth\u003e25\u003c/th\u003e\n      \u003ctd\u003e26\u003c/td\u003e\n      \u003ctd\u003e0.0\u003c/td\u003e\n      \u003ctd\u003eSun\u003c/td\u003e\n    \u003c/tr\u003e\n    \u003ctr\u003e\n      \u003cth\u003e26\u003c/th\u003e\n      \u003ctd\u003e27\u003c/td\u003e\n      \u003ctd\u003e5575.0\u003c/td\u003e\n      \u003ctd\u003eMon\u003c/td\u003e\n    \u003c/tr\u003e\n    \u003ctr\u003e\n      \u003cth\u003e27\u003c/th\u003e\n      \u003ctd\u003e28\u003c/td\u003e\n      \u003ctd\u003e5199.0\u003c/td\u003e\n      \u003ctd\u003eTue\u003c/td\u003e\n    \u003c/tr\u003e\n    \u003ctr\u003e\n      \u003cth\u003e28\u003c/th\u003e\n      \u003ctd\u003e29\u003c/td\u003e\n      \u003ctd\u003e5775.0\u003c/td\u003e\n      \u003ctd\u003eWed\u003c/td\u003e\n    \u003c/tr\u003e\n    \u003ctr\u003e\n      \u003cth\u003e29\u003c/th\u003e\n      \u003ctd\u003e30\u003c/td\u003e\n      \u003ctd\u003e6228.0\u003c/td\u003e\n      \u003ctd\u003eThu\u003c/td\u003e\n    \u003c/tr\u003e\n  \u003c/tbody\u003e\n\u003c/table\u003e\n\u003c/div\u003e",
                        "text/plain": "    Day   Sales DayOfWeek\n0     1  6816.0       Wed\n1     2  6574.0       Thu\n2     3     0.0       Fri\n3     4  6709.0       Sat\n4     5     0.0       Sun\n5     6     0.0       Mon\n6     7  4163.0       Tue\n7     8  4194.0       Wed\n8     9  3467.0       Thu\n9    10  3549.0       Fri\n10   11  4173.0       Sat\n11   12     0.0       Sun\n12   13  5377.0       Mon\n13   14  4648.0       Tue\n14   15  4110.0       Wed\n15   16  4116.0       Thu\n16   17  4718.0       Fri\n17   18  4594.0       Sat\n18   19     0.0       Sun\n19   20  3722.0       Mon\n20   21  3037.0       Tue\n21   22  3319.0       Wed\n22   23  3076.0       Thu\n23   24  3198.0       Fri\n24   25  4318.0       Sat\n25   26     0.0       Sun\n26   27  5575.0       Mon\n27   28  5199.0       Tue\n28   29  5775.0       Wed\n29   30  6228.0       Thu"
                    },
                    "metadata": {},
                    "output_type": "display_data"
                }
            ],
            "source": [
                "repeat_day= np.tile(Day1, 5)\n",
                "#Day1 = Day1.reshape(1, -1)\n",
                "repeat_day\n",
                "Days = pd.DataFrame({\"DayOfWeek\" : repeat_day})\n",
                "SaleDay = pd.concat([Day_table2, Days ],axis =1, join = \"inner\") \n",
                "\n",
                "SaleDay.Sales.mask(np.isnan(SaleDay.Sales), other = 0, inplace = True)\n",
                "display(SaleDay)"
            ]
        },
        {
            "cell_type": "code",
            "execution_count": 7,
            "metadata": {},
            "outputs": [
                {
                    "data": {
                        "text/html": "\u003cdiv\u003e\n\u003cstyle scoped\u003e\n    .dataframe tbody tr th:only-of-type {\n        vertical-align: middle;\n    }\n\n    .dataframe tbody tr th {\n        vertical-align: top;\n    }\n\n    .dataframe thead th {\n        text-align: right;\n    }\n\u003c/style\u003e\n\u003ctable border=\"1\" class=\"dataframe\"\u003e\n  \u003cthead\u003e\n    \u003ctr style=\"text-align: right;\"\u003e\n      \u003cth\u003e\u003c/th\u003e\n      \u003cth\u003eDayOfWeek\u003c/th\u003e\n      \u003cth\u003eSales\u003c/th\u003e\n    \u003c/tr\u003e\n    \u003ctr\u003e\n      \u003cth\u003eDay\u003c/th\u003e\n      \u003cth\u003e\u003c/th\u003e\n      \u003cth\u003e\u003c/th\u003e\n    \u003c/tr\u003e\n  \u003c/thead\u003e\n  \u003ctbody\u003e\n    \u003ctr\u003e\n      \u003cth\u003e1\u003c/th\u003e\n      \u003ctd\u003eWed\u003c/td\u003e\n      \u003ctd\u003e6816.0\u003c/td\u003e\n    \u003c/tr\u003e\n    \u003ctr\u003e\n      \u003cth\u003e2\u003c/th\u003e\n      \u003ctd\u003eThu\u003c/td\u003e\n      \u003ctd\u003e6574.0\u003c/td\u003e\n    \u003c/tr\u003e\n    \u003ctr\u003e\n      \u003cth\u003e3\u003c/th\u003e\n      \u003ctd\u003eFri\u003c/td\u003e\n      \u003ctd\u003e0.0\u003c/td\u003e\n    \u003c/tr\u003e\n    \u003ctr\u003e\n      \u003cth\u003e4\u003c/th\u003e\n      \u003ctd\u003eSat\u003c/td\u003e\n      \u003ctd\u003e6709.0\u003c/td\u003e\n    \u003c/tr\u003e\n    \u003ctr\u003e\n      \u003cth\u003e5\u003c/th\u003e\n      \u003ctd\u003eSun\u003c/td\u003e\n      \u003ctd\u003e0.0\u003c/td\u003e\n    \u003c/tr\u003e\n    \u003ctr\u003e\n      \u003cth\u003e6\u003c/th\u003e\n      \u003ctd\u003eMon\u003c/td\u003e\n      \u003ctd\u003e0.0\u003c/td\u003e\n    \u003c/tr\u003e\n    \u003ctr\u003e\n      \u003cth\u003e7\u003c/th\u003e\n      \u003ctd\u003eTue\u003c/td\u003e\n      \u003ctd\u003e4163.0\u003c/td\u003e\n    \u003c/tr\u003e\n    \u003ctr\u003e\n      \u003cth\u003e8\u003c/th\u003e\n      \u003ctd\u003eWed\u003c/td\u003e\n      \u003ctd\u003e4194.0\u003c/td\u003e\n    \u003c/tr\u003e\n    \u003ctr\u003e\n      \u003cth\u003e9\u003c/th\u003e\n      \u003ctd\u003eThu\u003c/td\u003e\n      \u003ctd\u003e3467.0\u003c/td\u003e\n    \u003c/tr\u003e\n    \u003ctr\u003e\n      \u003cth\u003e10\u003c/th\u003e\n      \u003ctd\u003eFri\u003c/td\u003e\n      \u003ctd\u003e3549.0\u003c/td\u003e\n    \u003c/tr\u003e\n    \u003ctr\u003e\n      \u003cth\u003e11\u003c/th\u003e\n      \u003ctd\u003eSat\u003c/td\u003e\n      \u003ctd\u003e4173.0\u003c/td\u003e\n    \u003c/tr\u003e\n    \u003ctr\u003e\n      \u003cth\u003e12\u003c/th\u003e\n      \u003ctd\u003eSun\u003c/td\u003e\n      \u003ctd\u003e0.0\u003c/td\u003e\n    \u003c/tr\u003e\n    \u003ctr\u003e\n      \u003cth\u003e13\u003c/th\u003e\n      \u003ctd\u003eMon\u003c/td\u003e\n      \u003ctd\u003e5377.0\u003c/td\u003e\n    \u003c/tr\u003e\n    \u003ctr\u003e\n      \u003cth\u003e14\u003c/th\u003e\n      \u003ctd\u003eTue\u003c/td\u003e\n      \u003ctd\u003e4648.0\u003c/td\u003e\n    \u003c/tr\u003e\n    \u003ctr\u003e\n      \u003cth\u003e15\u003c/th\u003e\n      \u003ctd\u003eWed\u003c/td\u003e\n      \u003ctd\u003e4110.0\u003c/td\u003e\n    \u003c/tr\u003e\n    \u003ctr\u003e\n      \u003cth\u003e16\u003c/th\u003e\n      \u003ctd\u003eThu\u003c/td\u003e\n      \u003ctd\u003e4116.0\u003c/td\u003e\n    \u003c/tr\u003e\n    \u003ctr\u003e\n      \u003cth\u003e17\u003c/th\u003e\n      \u003ctd\u003eFri\u003c/td\u003e\n      \u003ctd\u003e4718.0\u003c/td\u003e\n    \u003c/tr\u003e\n    \u003ctr\u003e\n      \u003cth\u003e18\u003c/th\u003e\n      \u003ctd\u003eSat\u003c/td\u003e\n      \u003ctd\u003e4594.0\u003c/td\u003e\n    \u003c/tr\u003e\n    \u003ctr\u003e\n      \u003cth\u003e19\u003c/th\u003e\n      \u003ctd\u003eSun\u003c/td\u003e\n      \u003ctd\u003e0.0\u003c/td\u003e\n    \u003c/tr\u003e\n    \u003ctr\u003e\n      \u003cth\u003e20\u003c/th\u003e\n      \u003ctd\u003eMon\u003c/td\u003e\n      \u003ctd\u003e3722.0\u003c/td\u003e\n    \u003c/tr\u003e\n    \u003ctr\u003e\n      \u003cth\u003e21\u003c/th\u003e\n      \u003ctd\u003eTue\u003c/td\u003e\n      \u003ctd\u003e3037.0\u003c/td\u003e\n    \u003c/tr\u003e\n    \u003ctr\u003e\n      \u003cth\u003e22\u003c/th\u003e\n      \u003ctd\u003eWed\u003c/td\u003e\n      \u003ctd\u003e3319.0\u003c/td\u003e\n    \u003c/tr\u003e\n    \u003ctr\u003e\n      \u003cth\u003e23\u003c/th\u003e\n      \u003ctd\u003eThu\u003c/td\u003e\n      \u003ctd\u003e3076.0\u003c/td\u003e\n    \u003c/tr\u003e\n    \u003ctr\u003e\n      \u003cth\u003e24\u003c/th\u003e\n      \u003ctd\u003eFri\u003c/td\u003e\n      \u003ctd\u003e3198.0\u003c/td\u003e\n    \u003c/tr\u003e\n    \u003ctr\u003e\n      \u003cth\u003e25\u003c/th\u003e\n      \u003ctd\u003eSat\u003c/td\u003e\n      \u003ctd\u003e4318.0\u003c/td\u003e\n    \u003c/tr\u003e\n    \u003ctr\u003e\n      \u003cth\u003e26\u003c/th\u003e\n      \u003ctd\u003eSun\u003c/td\u003e\n      \u003ctd\u003e0.0\u003c/td\u003e\n    \u003c/tr\u003e\n    \u003ctr\u003e\n      \u003cth\u003e27\u003c/th\u003e\n      \u003ctd\u003eMon\u003c/td\u003e\n      \u003ctd\u003e5575.0\u003c/td\u003e\n    \u003c/tr\u003e\n    \u003ctr\u003e\n      \u003cth\u003e28\u003c/th\u003e\n      \u003ctd\u003eTue\u003c/td\u003e\n      \u003ctd\u003e5199.0\u003c/td\u003e\n    \u003c/tr\u003e\n    \u003ctr\u003e\n      \u003cth\u003e29\u003c/th\u003e\n      \u003ctd\u003eWed\u003c/td\u003e\n      \u003ctd\u003e5775.0\u003c/td\u003e\n    \u003c/tr\u003e\n    \u003ctr\u003e\n      \u003cth\u003e30\u003c/th\u003e\n      \u003ctd\u003eThu\u003c/td\u003e\n      \u003ctd\u003e6228.0\u003c/td\u003e\n    \u003c/tr\u003e\n  \u003c/tbody\u003e\n\u003c/table\u003e\n\u003c/div\u003e",
                        "text/plain": "    DayOfWeek   Sales\nDay                  \n1         Wed  6816.0\n2         Thu  6574.0\n3         Fri     0.0\n4         Sat  6709.0\n5         Sun     0.0\n6         Mon     0.0\n7         Tue  4163.0\n8         Wed  4194.0\n9         Thu  3467.0\n10        Fri  3549.0\n11        Sat  4173.0\n12        Sun     0.0\n13        Mon  5377.0\n14        Tue  4648.0\n15        Wed  4110.0\n16        Thu  4116.0\n17        Fri  4718.0\n18        Sat  4594.0\n19        Sun     0.0\n20        Mon  3722.0\n21        Tue  3037.0\n22        Wed  3319.0\n23        Thu  3076.0\n24        Fri  3198.0\n25        Sat  4318.0\n26        Sun     0.0\n27        Mon  5575.0\n28        Tue  5199.0\n29        Wed  5775.0\n30        Thu  6228.0"
                    },
                    "execution_count": 7,
                    "metadata": {},
                    "output_type": "execute_result"
                }
            ],
            "source": [
                "#unstack\n",
                "\n",
                "SaleDay_in = SaleDay.set_index (['Day'])\n",
                "SaleDay_in = SaleDay_in.loc[:,['DayOfWeek', 'Sales']]\n",
                "SaleDay_in"
            ]
        },
        {
            "cell_type": "code",
            "execution_count": 8,
            "metadata": {},
            "outputs": [
                {
                    "data": {
                        "text/html": "\u003cdiv\u003e\n\u003cstyle scoped\u003e\n    .dataframe tbody tr th:only-of-type {\n        vertical-align: middle;\n    }\n\n    .dataframe tbody tr th {\n        vertical-align: top;\n    }\n\n    .dataframe thead th {\n        text-align: right;\n    }\n\u003c/style\u003e\n\u003ctable border=\"1\" class=\"dataframe\"\u003e\n  \u003cthead\u003e\n    \u003ctr style=\"text-align: right;\"\u003e\n      \u003cth\u003e\u003c/th\u003e\n      \u003cth\u003eDayOfWeek\u003c/th\u003e\n      \u003cth\u003eSales\u003c/th\u003e\n    \u003c/tr\u003e\n    \u003ctr\u003e\n      \u003cth\u003eDay\u003c/th\u003e\n      \u003cth\u003e\u003c/th\u003e\n      \u003cth\u003e\u003c/th\u003e\n    \u003c/tr\u003e\n  \u003c/thead\u003e\n  \u003ctbody\u003e\n    \u003ctr\u003e\n      \u003cth\u003e1\u003c/th\u003e\n      \u003ctd\u003eWed\u003c/td\u003e\n      \u003ctd\u003e6816.0\u003c/td\u003e\n    \u003c/tr\u003e\n    \u003ctr\u003e\n      \u003cth\u003e2\u003c/th\u003e\n      \u003ctd\u003eThu\u003c/td\u003e\n      \u003ctd\u003e6574.0\u003c/td\u003e\n    \u003c/tr\u003e\n    \u003ctr\u003e\n      \u003cth\u003e3\u003c/th\u003e\n      \u003ctd\u003eFri\u003c/td\u003e\n      \u003ctd\u003e0.0\u003c/td\u003e\n    \u003c/tr\u003e\n    \u003ctr\u003e\n      \u003cth\u003e4\u003c/th\u003e\n      \u003ctd\u003eSat\u003c/td\u003e\n      \u003ctd\u003e6709.0\u003c/td\u003e\n    \u003c/tr\u003e\n    \u003ctr\u003e\n      \u003cth\u003e5\u003c/th\u003e\n      \u003ctd\u003eSun\u003c/td\u003e\n      \u003ctd\u003e0.0\u003c/td\u003e\n    \u003c/tr\u003e\n  \u003c/tbody\u003e\n\u003c/table\u003e\n\u003c/div\u003e",
                        "text/plain": "    DayOfWeek   Sales\nDay                  \n1         Wed  6816.0\n2         Thu  6574.0\n3         Fri     0.0\n4         Sat  6709.0\n5         Sun     0.0"
                    },
                    "execution_count": 8,
                    "metadata": {},
                    "output_type": "execute_result"
                }
            ],
            "source": [
                "Q1=pd.read_pickle(\"Q1_result.pkl\")  \n",
                "Q1.head()"
            ]
        },
        {
            "cell_type": "code",
            "execution_count": 9,
            "metadata": {},
            "outputs": [],
            "source": [
                ""
            ]
        },
        {
            "attachments": {},
            "cell_type": "markdown",
            "metadata": {},
            "source": [
                "## Q2. [10 Points]\n",
                "From Q1 table, construct the following table: \n",
                "\n",
                "\n",
                "\u003ctable\u003e\n",
                "    \u003ctr\u003e\n",
                "      \u003cth\u003eDayOfWeek\u003c/th\u003e\n",
                "      \u003cth\u003eMon\u003c/th\u003e\n",
                "      \u003cth\u003eTue\u003c/th\u003e\n",
                "      \u003cth\u003eWed\u003c/th\u003e\n",
                "      \u003cth\u003e...\u003c/th\u003e\n",
                "      \u003cth\u003eSun\u003c/th\u003e\n",
                "    \u003c/tr\u003e\n",
                "    \u003ctr\u003e\n",
                "      \u003cth\u003eWeek\u003c/th\u003e\n",
                "      \u003cth\u003e\u003c/th\u003e\n",
                "      \u003cth\u003e\u003c/th\u003e\n",
                "      \u003cth\u003e\u003c/th\u003e\n",
                "      \u003cth\u003e\u003c/th\u003e\n",
                "      \u003cth\u003e\u003c/th\u003e\n",
                "    \u003c/tr\u003e\n",
                "    \u003ctr\u003e\n",
                "      \u003cth\u003e1\u003c/th\u003e\n",
                "      \u003ctd\u003e?\u003c/td\u003e\n",
                "      \u003ctd\u003e\u003c/td\u003e\n",
                "      \u003ctd\u003e\u003c/td\u003e\n",
                "      \u003ctd\u003e\u003c/td\u003e\n",
                "      \u003ctd\u003e\u003c/td\u003e\n",
                "    \u003c/tr\u003e\n",
                "    \u003ctr\u003e\n",
                "      \u003cth\u003e2\u003c/th\u003e\n",
                "      \u003ctd\u003e\u003c/td\u003e\n",
                "      \u003ctd\u003e\u003c/td\u003e\n",
                "      \u003ctd\u003e\u003c/td\u003e\n",
                "      \u003ctd\u003e\u003c/td\u003e\n",
                "      \u003ctd\u003e\u003c/td\u003e\n",
                "    \u003c/tr\u003e\n",
                "    \u003ctr\u003e\n",
                "      \u003cth\u003e...\u003c/th\u003e\n",
                "      \u003ctd\u003e\u003c/td\u003e\n",
                "      \u003ctd\u003e\u003c/td\u003e\n",
                "      \u003ctd\u003e\u003c/td\u003e\n",
                "      \u003ctd\u003e\u003c/td\u003e\n",
                "      \u003ctd\u003e\u003c/td\u003e\n",
                "    \u003c/tr\u003e\n",
                "\u003c/table\u003e\n",
                "\n",
                " \n",
                "* Each row represents n'th week of the month (Starting from 1). Here, we assume n'th week always starts on Monday (Think about how to use DayOfWeek==\"Mon\")and the first day of the month always belongs to the first week.\n",
                "* Each column represents a `DayOfWeek`(Starting from Monday).\n",
                "* ? should give the sales on a given Week/DayOfWeek. If a Week/DayOfWeek does not exist, record it as missing value. \n",
                "* You should use  `unstack` or `stack` in your answer.\n",
                "* Your table should be the exactly the same as `Q2` DataFrame. You can use `Q2` DataFrame for Q3.\n",
                " \n",
                ""
            ]
        },
        {
            "cell_type": "code",
            "execution_count": 10,
            "metadata": {},
            "outputs": [],
            "source": [
                "## This array can be used to help you reorder the columns\n",
                "Day=[\"Mon\",\"Tue\",\"Wed\",\"Thu\",\"Fri\",\"Sat\",\"Sun\"]\n",
                ""
            ]
        },
        {
            "cell_type": "code",
            "execution_count": 11,
            "metadata": {},
            "outputs": [
                {
                    "data": {
                        "text/html": "\u003cdiv\u003e\n\u003cstyle scoped\u003e\n    .dataframe tbody tr th:only-of-type {\n        vertical-align: middle;\n    }\n\n    .dataframe tbody tr th {\n        vertical-align: top;\n    }\n\n    .dataframe thead th {\n        text-align: right;\n    }\n\u003c/style\u003e\n\u003ctable border=\"1\" class=\"dataframe\"\u003e\n  \u003cthead\u003e\n    \u003ctr style=\"text-align: right;\"\u003e\n      \u003cth\u003eDayOfWeek\u003c/th\u003e\n      \u003cth\u003eMon\u003c/th\u003e\n      \u003cth\u003eTue\u003c/th\u003e\n      \u003cth\u003eWed\u003c/th\u003e\n      \u003cth\u003eThu\u003c/th\u003e\n      \u003cth\u003eFri\u003c/th\u003e\n      \u003cth\u003eSat\u003c/th\u003e\n      \u003cth\u003eSun\u003c/th\u003e\n    \u003c/tr\u003e\n    \u003ctr\u003e\n      \u003cth\u003eWeek\u003c/th\u003e\n      \u003cth\u003e\u003c/th\u003e\n      \u003cth\u003e\u003c/th\u003e\n      \u003cth\u003e\u003c/th\u003e\n      \u003cth\u003e\u003c/th\u003e\n      \u003cth\u003e\u003c/th\u003e\n      \u003cth\u003e\u003c/th\u003e\n      \u003cth\u003e\u003c/th\u003e\n    \u003c/tr\u003e\n  \u003c/thead\u003e\n  \u003ctbody\u003e\n    \u003ctr\u003e\n      \u003cth\u003e1\u003c/th\u003e\n      \u003ctd\u003eNaN\u003c/td\u003e\n      \u003ctd\u003eNaN\u003c/td\u003e\n      \u003ctd\u003e6816.0\u003c/td\u003e\n      \u003ctd\u003e6574.0\u003c/td\u003e\n      \u003ctd\u003e0.0\u003c/td\u003e\n      \u003ctd\u003e6709.0\u003c/td\u003e\n      \u003ctd\u003e0.0\u003c/td\u003e\n    \u003c/tr\u003e\n    \u003ctr\u003e\n      \u003cth\u003e2\u003c/th\u003e\n      \u003ctd\u003e0.0\u003c/td\u003e\n      \u003ctd\u003e4163.0\u003c/td\u003e\n      \u003ctd\u003e4194.0\u003c/td\u003e\n      \u003ctd\u003e3467.0\u003c/td\u003e\n      \u003ctd\u003e3549.0\u003c/td\u003e\n      \u003ctd\u003e4173.0\u003c/td\u003e\n      \u003ctd\u003e0.0\u003c/td\u003e\n    \u003c/tr\u003e\n    \u003ctr\u003e\n      \u003cth\u003e3\u003c/th\u003e\n      \u003ctd\u003e5377.0\u003c/td\u003e\n      \u003ctd\u003e4648.0\u003c/td\u003e\n      \u003ctd\u003e4110.0\u003c/td\u003e\n      \u003ctd\u003e4116.0\u003c/td\u003e\n      \u003ctd\u003e4718.0\u003c/td\u003e\n      \u003ctd\u003e4594.0\u003c/td\u003e\n      \u003ctd\u003e0.0\u003c/td\u003e\n    \u003c/tr\u003e\n    \u003ctr\u003e\n      \u003cth\u003e4\u003c/th\u003e\n      \u003ctd\u003e3722.0\u003c/td\u003e\n      \u003ctd\u003e3037.0\u003c/td\u003e\n      \u003ctd\u003e3319.0\u003c/td\u003e\n      \u003ctd\u003e3076.0\u003c/td\u003e\n      \u003ctd\u003e3198.0\u003c/td\u003e\n      \u003ctd\u003e4318.0\u003c/td\u003e\n      \u003ctd\u003e0.0\u003c/td\u003e\n    \u003c/tr\u003e\n    \u003ctr\u003e\n      \u003cth\u003e5\u003c/th\u003e\n      \u003ctd\u003e5575.0\u003c/td\u003e\n      \u003ctd\u003e5199.0\u003c/td\u003e\n      \u003ctd\u003e5775.0\u003c/td\u003e\n      \u003ctd\u003e6228.0\u003c/td\u003e\n      \u003ctd\u003eNaN\u003c/td\u003e\n      \u003ctd\u003eNaN\u003c/td\u003e\n      \u003ctd\u003eNaN\u003c/td\u003e\n    \u003c/tr\u003e\n  \u003c/tbody\u003e\n\u003c/table\u003e\n\u003c/div\u003e",
                        "text/plain": "DayOfWeek     Mon     Tue     Wed     Thu     Fri     Sat  Sun\nWeek                                                          \n1             NaN     NaN  6816.0  6574.0     0.0  6709.0  0.0\n2             0.0  4163.0  4194.0  3467.0  3549.0  4173.0  0.0\n3          5377.0  4648.0  4110.0  4116.0  4718.0  4594.0  0.0\n4          3722.0  3037.0  3319.0  3076.0  3198.0  4318.0  0.0\n5          5575.0  5199.0  5775.0  6228.0     NaN     NaN  NaN"
                    },
                    "metadata": {},
                    "output_type": "display_data"
                }
            ],
            "source": [
                "SaleDay2 = Q1.copy()\n",
                "#SaleDay2.reset_index(drop=True, inplace= True) don't need it\n",
                "\n",
                "#week = pd.DataFrame({\"Week\":np.repeat(np.arange(1, (30/7+1)),7)}).astype(int)\n",
                "week =  np.cumsum(Q1.DayOfWeek == \"Mon\") +1\n",
                "SaleDay2[\"Week\"] = week\n",
                "#day_map = {'Mon': 1, 'Tue': 2, 'Wed': 3, 'Thu': 4, 'Fri': 5, \"Sat\": 6, 'Sun': 7}\n",
                "#SaleDay2['DayOfWeek'] = SaleDay2['DayOfWeek'].map(day_map)\n",
                "\n",
                "#display(SaleDay2)\n",
                "\n",
                "SaleDay2 = SaleDay2.set_index([\"Week\", \"DayOfWeek\"])[\"Sales\"].unstack()\n",
                "SaleDay2 = SaleDay2.reindex(columns = Day)\n",
                "\n",
                "display(SaleDay2)\n",
                ""
            ]
        },
        {
            "cell_type": "code",
            "execution_count": 12,
            "metadata": {},
            "outputs": [
                {
                    "data": {
                        "text/html": "\u003cdiv\u003e\n\u003cstyle scoped\u003e\n    .dataframe tbody tr th:only-of-type {\n        vertical-align: middle;\n    }\n\n    .dataframe tbody tr th {\n        vertical-align: top;\n    }\n\n    .dataframe thead th {\n        text-align: right;\n    }\n\u003c/style\u003e\n\u003ctable border=\"1\" class=\"dataframe\"\u003e\n  \u003cthead\u003e\n    \u003ctr style=\"text-align: right;\"\u003e\n      \u003cth\u003eDayOfWeek\u003c/th\u003e\n      \u003cth\u003eMon\u003c/th\u003e\n      \u003cth\u003eTue\u003c/th\u003e\n      \u003cth\u003eWed\u003c/th\u003e\n      \u003cth\u003eThu\u003c/th\u003e\n      \u003cth\u003eFri\u003c/th\u003e\n      \u003cth\u003eSat\u003c/th\u003e\n      \u003cth\u003eSun\u003c/th\u003e\n    \u003c/tr\u003e\n    \u003ctr\u003e\n      \u003cth\u003eWeek\u003c/th\u003e\n      \u003cth\u003e\u003c/th\u003e\n      \u003cth\u003e\u003c/th\u003e\n      \u003cth\u003e\u003c/th\u003e\n      \u003cth\u003e\u003c/th\u003e\n      \u003cth\u003e\u003c/th\u003e\n      \u003cth\u003e\u003c/th\u003e\n      \u003cth\u003e\u003c/th\u003e\n    \u003c/tr\u003e\n  \u003c/thead\u003e\n  \u003ctbody\u003e\n    \u003ctr\u003e\n      \u003cth\u003e1\u003c/th\u003e\n      \u003ctd\u003eNaN\u003c/td\u003e\n      \u003ctd\u003eNaN\u003c/td\u003e\n      \u003ctd\u003e6816.0\u003c/td\u003e\n      \u003ctd\u003e6574.0\u003c/td\u003e\n      \u003ctd\u003e0.0\u003c/td\u003e\n      \u003ctd\u003e6709.0\u003c/td\u003e\n      \u003ctd\u003e0.0\u003c/td\u003e\n    \u003c/tr\u003e\n    \u003ctr\u003e\n      \u003cth\u003e2\u003c/th\u003e\n      \u003ctd\u003e0.0\u003c/td\u003e\n      \u003ctd\u003e4163.0\u003c/td\u003e\n      \u003ctd\u003e4194.0\u003c/td\u003e\n      \u003ctd\u003e3467.0\u003c/td\u003e\n      \u003ctd\u003e3549.0\u003c/td\u003e\n      \u003ctd\u003e4173.0\u003c/td\u003e\n      \u003ctd\u003e0.0\u003c/td\u003e\n    \u003c/tr\u003e\n    \u003ctr\u003e\n      \u003cth\u003e3\u003c/th\u003e\n      \u003ctd\u003e5377.0\u003c/td\u003e\n      \u003ctd\u003e4648.0\u003c/td\u003e\n      \u003ctd\u003e4110.0\u003c/td\u003e\n      \u003ctd\u003e4116.0\u003c/td\u003e\n      \u003ctd\u003e4718.0\u003c/td\u003e\n      \u003ctd\u003e4594.0\u003c/td\u003e\n      \u003ctd\u003e0.0\u003c/td\u003e\n    \u003c/tr\u003e\n    \u003ctr\u003e\n      \u003cth\u003e4\u003c/th\u003e\n      \u003ctd\u003e3722.0\u003c/td\u003e\n      \u003ctd\u003e3037.0\u003c/td\u003e\n      \u003ctd\u003e3319.0\u003c/td\u003e\n      \u003ctd\u003e3076.0\u003c/td\u003e\n      \u003ctd\u003e3198.0\u003c/td\u003e\n      \u003ctd\u003e4318.0\u003c/td\u003e\n      \u003ctd\u003e0.0\u003c/td\u003e\n    \u003c/tr\u003e\n    \u003ctr\u003e\n      \u003cth\u003e5\u003c/th\u003e\n      \u003ctd\u003e5575.0\u003c/td\u003e\n      \u003ctd\u003e5199.0\u003c/td\u003e\n      \u003ctd\u003e5775.0\u003c/td\u003e\n      \u003ctd\u003e6228.0\u003c/td\u003e\n      \u003ctd\u003eNaN\u003c/td\u003e\n      \u003ctd\u003eNaN\u003c/td\u003e\n      \u003ctd\u003eNaN\u003c/td\u003e\n    \u003c/tr\u003e\n  \u003c/tbody\u003e\n\u003c/table\u003e\n\u003c/div\u003e",
                        "text/plain": "DayOfWeek     Mon     Tue     Wed     Thu     Fri     Sat  Sun\nWeek                                                          \n1             NaN     NaN  6816.0  6574.0     0.0  6709.0  0.0\n2             0.0  4163.0  4194.0  3467.0  3549.0  4173.0  0.0\n3          5377.0  4648.0  4110.0  4116.0  4718.0  4594.0  0.0\n4          3722.0  3037.0  3319.0  3076.0  3198.0  4318.0  0.0\n5          5575.0  5199.0  5775.0  6228.0     NaN     NaN  NaN"
                    },
                    "execution_count": 12,
                    "metadata": {},
                    "output_type": "execute_result"
                }
            ],
            "source": [
                "Q2=pd.read_pickle(\"Q2_result.pkl\")  \n",
                "Q2"
            ]
        },
        {
            "attachments": {},
            "cell_type": "markdown",
            "metadata": {},
            "source": [
                "## Q3. [20 Points]\n",
                "\n",
                "Based on Q2, construct the following table:\n",
                "\n",
                "\u003ctable\u003e\n",
                "    \u003ctr style=\" text-align: left\";\u003e\n",
                "      \u003cth\u003e\u003c/th\u003e\n",
                "      \u003cth colspan=\"3\" \u003eSales\u003c/th\u003e\n",
                "      \u003cth colspan=\"3\"\u003eDayOfWeek\u003c/th\u003e\n",
                "    \u003c/tr\u003e\n",
                "    \u003ctr style=\" text-align: left\"\u003e\n",
                "      \u003cth\u003eRank\u003c/th\u003e\n",
                "      \u003cth\u003e1\u0026emsp;\u003c/th\u003e\n",
                "      \u003cth\u003e2\u0026emsp;\u003c/th\u003e\n",
                "      \u003cth\u003e3\u0026emsp;\u003c/th\u003e\n",
                "      \u003cth\u003e1\u0026emsp;\u003c/th\u003e\n",
                "      \u003cth\u003e2\u0026emsp;\u003c/th\u003e\n",
                "      \u003cth\u003e3\u0026emsp;\u003c/th\u003e\n",
                "    \u003c/tr\u003e\n",
                "    \u003ctr\u003e\n",
                "      \u003cth\u003eWeek\u003c/th\u003e\n",
                "      \u003cth\u003e\u003c/th\u003e\n",
                "      \u003cth\u003e\u003c/th\u003e\n",
                "      \u003cth\u003e\u003c/th\u003e\n",
                "      \u003cth\u003e\u003c/th\u003e\n",
                "      \u003cth\u003e\u003c/th\u003e\n",
                "      \u003cth\u003e\u003c/th\u003e\n",
                "    \u003c/tr\u003e\n",
                "    \u003ctr\u003e\n",
                "      \u003cth\u003e1\u003c/th\u003e\n",
                "      \u003ctd\u003e?\u003c/td\u003e\n",
                "      \u003ctd\u003e??\u003c/td\u003e\n",
                "      \u003ctd\u003e???\u003c/td\u003e\n",
                "      \u003ctd\u003e^\u003c/td\u003e\n",
                "      \u003ctd\u003e^^\u003c/td\u003e\n",
                "      \u003ctd\u003e^^^\u003c/td\u003e\n",
                "    \u003c/tr\u003e\n",
                "    \u003ctr\u003e\n",
                "      \u003cth\u003e2\u003c/th\u003e\n",
                "      \u003ctd\u003e\u003c/td\u003e\n",
                "      \u003ctd\u003e\u003c/td\u003e\n",
                "      \u003ctd\u003e\u003c/td\u003e\n",
                "      \u003ctd\u003e\u003c/td\u003e\n",
                "      \u003ctd\u003e\u003c/td\u003e\n",
                "      \u003ctd\u003e\u003c/td\u003e\n",
                "    \u003c/tr\u003e\n",
                "    \u003ctr\u003e\n",
                "      \u003cth\u003e...\u003c/th\u003e\n",
                "      \u003ctd\u003e\u003c/td\u003e\n",
                "      \u003ctd\u003e\u003c/td\u003e\n",
                "      \u003ctd\u003e\u003c/td\u003e\n",
                "      \u003ctd\u003e\u003c/td\u003e\n",
                "      \u003ctd\u003e\u003c/td\u003e\n",
                "      \u003ctd\u003e\u003c/td\u003e\n",
                "    \u003c/tr\u003e\n",
                "\u003c/table\u003e\n",
                "\n",
                "\n",
                "\n",
                "* ?: highest sales value in this week. \n",
                "* ??: second-highest sales value in this week \n",
                "* ???: third-highest sales value in this week\n",
                "* ^, ^^, ^^^: corresponding DayofWeek value. For example, if Wednesday has the highest sale during that week, ^ should be \"Wed\" .  \n",
                "\n",
                "\n",
                "* The results cannot be based on eye-balling.\n",
                "* You should not construct the result row by row.\n",
                "\n",
                "\n",
                "\n",
                "\n",
                "\n",
                ""
            ]
        },
        {
            "cell_type": "code",
            "execution_count": 13,
            "metadata": {},
            "outputs": [],
            "source": [
                "Day=[\"Mon\",\"Tue\",\"Wed\",\"Thu\",\"Fri\",\"Sat\",\"Sun\"]\n",
                ""
            ]
        },
        {
            "attachments": {},
            "cell_type": "markdown",
            "metadata": {},
            "source": [
                ""
            ]
        },
        {
            "cell_type": "code",
            "execution_count": 14,
            "metadata": {},
            "outputs": [
                {
                    "data": {
                        "text/html": "\u003cdiv\u003e\n\u003cstyle scoped\u003e\n    .dataframe tbody tr th:only-of-type {\n        vertical-align: middle;\n    }\n\n    .dataframe tbody tr th {\n        vertical-align: top;\n    }\n\n    .dataframe thead tr th {\n        text-align: left;\n    }\n\n    .dataframe thead tr:last-of-type th {\n        text-align: right;\n    }\n\u003c/style\u003e\n\u003ctable border=\"1\" class=\"dataframe\"\u003e\n  \u003cthead\u003e\n    \u003ctr\u003e\n      \u003cth\u003e\u003c/th\u003e\n      \u003cth colspan=\"3\" halign=\"left\"\u003eSales\u003c/th\u003e\n      \u003cth colspan=\"3\" halign=\"left\"\u003eDayOfWeek\u003c/th\u003e\n    \u003c/tr\u003e\n    \u003ctr\u003e\n      \u003cth\u003eRank\u003c/th\u003e\n      \u003cth\u003e1\u003c/th\u003e\n      \u003cth\u003e2\u003c/th\u003e\n      \u003cth\u003e3\u003c/th\u003e\n      \u003cth\u003e1\u003c/th\u003e\n      \u003cth\u003e2\u003c/th\u003e\n      \u003cth\u003e3\u003c/th\u003e\n    \u003c/tr\u003e\n    \u003ctr\u003e\n      \u003cth\u003eWeek\u003c/th\u003e\n      \u003cth\u003e\u003c/th\u003e\n      \u003cth\u003e\u003c/th\u003e\n      \u003cth\u003e\u003c/th\u003e\n      \u003cth\u003e\u003c/th\u003e\n      \u003cth\u003e\u003c/th\u003e\n      \u003cth\u003e\u003c/th\u003e\n    \u003c/tr\u003e\n  \u003c/thead\u003e\n  \u003ctbody\u003e\n    \u003ctr\u003e\n      \u003cth\u003e1\u003c/th\u003e\n      \u003ctd\u003e6816.0\u003c/td\u003e\n      \u003ctd\u003e6709.0\u003c/td\u003e\n      \u003ctd\u003e6574.0\u003c/td\u003e\n      \u003ctd\u003eWed\u003c/td\u003e\n      \u003ctd\u003eSat\u003c/td\u003e\n      \u003ctd\u003eThu\u003c/td\u003e\n    \u003c/tr\u003e\n    \u003ctr\u003e\n      \u003cth\u003e2\u003c/th\u003e\n      \u003ctd\u003e4194.0\u003c/td\u003e\n      \u003ctd\u003e4173.0\u003c/td\u003e\n      \u003ctd\u003e4163.0\u003c/td\u003e\n      \u003ctd\u003eWed\u003c/td\u003e\n      \u003ctd\u003eSat\u003c/td\u003e\n      \u003ctd\u003eTue\u003c/td\u003e\n    \u003c/tr\u003e\n    \u003ctr\u003e\n      \u003cth\u003e3\u003c/th\u003e\n      \u003ctd\u003e5377.0\u003c/td\u003e\n      \u003ctd\u003e4718.0\u003c/td\u003e\n      \u003ctd\u003e4648.0\u003c/td\u003e\n      \u003ctd\u003eMon\u003c/td\u003e\n      \u003ctd\u003eFri\u003c/td\u003e\n      \u003ctd\u003eTue\u003c/td\u003e\n    \u003c/tr\u003e\n    \u003ctr\u003e\n      \u003cth\u003e4\u003c/th\u003e\n      \u003ctd\u003e4318.0\u003c/td\u003e\n      \u003ctd\u003e3722.0\u003c/td\u003e\n      \u003ctd\u003e3319.0\u003c/td\u003e\n      \u003ctd\u003eSat\u003c/td\u003e\n      \u003ctd\u003eMon\u003c/td\u003e\n      \u003ctd\u003eWed\u003c/td\u003e\n    \u003c/tr\u003e\n    \u003ctr\u003e\n      \u003cth\u003e5\u003c/th\u003e\n      \u003ctd\u003e6228.0\u003c/td\u003e\n      \u003ctd\u003e5775.0\u003c/td\u003e\n      \u003ctd\u003e5575.0\u003c/td\u003e\n      \u003ctd\u003eThu\u003c/td\u003e\n      \u003ctd\u003eWed\u003c/td\u003e\n      \u003ctd\u003eMon\u003c/td\u003e\n    \u003c/tr\u003e\n  \u003c/tbody\u003e\n\u003c/table\u003e\n\u003c/div\u003e",
                        "text/plain": "       Sales                 DayOfWeek          \nRank       1       2       3         1    2    3\nWeek                                            \n1     6816.0  6709.0  6574.0       Wed  Sat  Thu\n2     4194.0  4173.0  4163.0       Wed  Sat  Tue\n3     5377.0  4718.0  4648.0       Mon  Fri  Tue\n4     4318.0  3722.0  3319.0       Sat  Mon  Wed\n5     6228.0  5775.0  5575.0       Thu  Wed  Mon"
                    },
                    "metadata": {},
                    "output_type": "display_data"
                }
            ],
            "source": [
                "SaleDay3 = Q2.stack(dropna=False).reset_index()\n",
                "\n",
                "SaleDay3 = SaleDay3.sort_values(by = [\"Week\", 0], ascending=[True, False])\n",
                "\n",
                "\n",
                "\n",
                "rank = np.tile (np.arange(1,7+1), np.max(SaleDay3.Week))\n",
                "SaleDay3 = SaleDay3.assign(Rank = rank)\n",
                "\n",
                "SaleDay3 = SaleDay3[SaleDay3.Rank\u003c4]\n",
                "SaleDay3.rename({0 :\"Sales\"},axis = 1, inplace = True)\n",
                "SaleDay3 = SaleDay3[[\"Week\", \"Rank\", \"Sales\", \"DayOfWeek\"]]\n",
                "\n",
                "SaleDay3 = SaleDay3.set_index(['Rank','Week']).unstack(-2)\n",
                "display(SaleDay3)\n",
                "\n",
                "#SaleDay3 = SaleDay3.assign(Rank = )"
            ]
        },
        {
            "attachments": {},
            "cell_type": "markdown",
            "metadata": {},
            "source": [
                "## Q4. [8 Points]\n",
                "\n",
                "Based on **Q2** dataset, construct the following table:\n",
                "\n",
                "\u003ctable\u003e\n",
                "    \u003ctr\u003e\n",
                "      \u003cth\u003eStatistics\u003c/th\u003e\n",
                "      \u003cth\u003eMean\u003c/th\u003e\n",
                "      \u003cth\u003eVariance\u003c/th\u003e\n",
                "      \u003cth\u003emin\u003c/th\u003e\n",
                "      \u003cth\u003e25 percentile\u003c/th\u003e\n",
                "      \u003cth\u003e50 percentile\u003c/th\u003e\n",
                "      \u003cth\u003e75 percentile\u003c/th\u003e\n",
                "      \u003cth\u003emax\u003c/th\u003e\n",
                "    \u003c/tr\u003e\n",
                "    \u003ctr\u003e\n",
                "      \u003cth\u003eWeek\u003c/th\u003e\n",
                "      \u003cth\u003e\u003c/th\u003e\n",
                "      \u003cth\u003e\u003c/th\u003e\n",
                "      \u003cth\u003e\u003c/th\u003e\n",
                "      \u003cth\u003e\u003c/th\u003e\n",
                "      \u003cth\u003e\u003c/th\u003e\n",
                "      \u003cth\u003e\u003c/th\u003e\n",
                "      \u003cth\u003e\u003c/th\u003e\n",
                "    \u003c/tr\u003e\n",
                "    \u003ctr\u003e\n",
                "      \u003cth\u003e1\u003c/th\u003e\n",
                "      \u003ctd\u003e?\u003c/td\u003e\n",
                "      \u003ctd\u003e\u003c/td\u003e\n",
                "      \u003ctd\u003e\u003c/td\u003e\n",
                "      \u003ctd\u003e\u003c/td\u003e\n",
                "      \u003ctd\u003e\u003c/td\u003e\n",
                "      \u003ctd\u003e\u003c/th\u003e\n",
                "      \u003ctd\u003e\u003c/th\u003e\n",
                "    \u003c/tr\u003e\n",
                "    \u003ctr\u003e\n",
                "      \u003cth\u003e2\u003c/th\u003e\n",
                "      \u003ctd\u003e\u003c/td\u003e\n",
                "      \u003ctd\u003e\u003c/td\u003e\n",
                "      \u003ctd\u003e\u003c/td\u003e\n",
                "      \u003ctd\u003e\u003c/td\u003e\n",
                "      \u003ctd\u003e\u003c/td\u003e\n",
                "      \u003ctd\u003e\u003c/th\u003e\n",
                "      \u003ctd\u003e\u003c/th\u003e\n",
                "    \u003c/tr\u003e\n",
                "    \u003ctr\u003e\n",
                "      \u003cth\u003e...\u003c/th\u003e\n",
                "      \u003ctd\u003e\u003c/td\u003e\n",
                "      \u003ctd\u003e\u003c/td\u003e\n",
                "      \u003ctd\u003e\u003c/td\u003e\n",
                "      \u003ctd\u003e\u003c/td\u003e\n",
                "      \u003ctd\u003e\u003c/td\u003e\n",
                "      \u003ctd\u003e\u003c/td\u003e\n",
                "      \u003ctd\u003e\u003c/td\u003e\n",
                "    \u003c/tr\u003e\n",
                "\u003c/table\u003e\n",
                "\n",
                "The statistics should be calculated based on all non-missing sales belonging to the week.\n",
                "\n",
                "[hint: you can use `.T` to transpose a DataFrame]"
            ]
        },
        {
            "cell_type": "code",
            "execution_count": 19,
            "metadata": {},
            "outputs": [
                {
                    "name": "stdout",
                    "output_type": "stream",
                    "text": "Week\n1    1.347301e+07\n2    3.728601e+06\n3    3.197111e+06\n4    1.898493e+06\n5    1.836342e+05\ndtype: float64\n"
                },
                {
                    "data": {
                        "text/html": "\u003cdiv\u003e\n\u003cstyle scoped\u003e\n    .dataframe tbody tr th:only-of-type {\n        vertical-align: middle;\n    }\n\n    .dataframe tbody tr th {\n        vertical-align: top;\n    }\n\n    .dataframe thead th {\n        text-align: right;\n    }\n\u003c/style\u003e\n\u003ctable border=\"1\" class=\"dataframe\"\u003e\n  \u003cthead\u003e\n    \u003ctr style=\"text-align: right;\"\u003e\n      \u003cth\u003eWeek\u003c/th\u003e\n      \u003cth\u003e1\u003c/th\u003e\n      \u003cth\u003e2\u003c/th\u003e\n      \u003cth\u003e3\u003c/th\u003e\n      \u003cth\u003e4\u003c/th\u003e\n      \u003cth\u003e5\u003c/th\u003e\n    \u003c/tr\u003e\n  \u003c/thead\u003e\n  \u003ctbody\u003e\n    \u003ctr\u003e\n      \u003cth\u003ecount\u003c/th\u003e\n      \u003ctd\u003e5.000000\u003c/td\u003e\n      \u003ctd\u003e7.000000\u003c/td\u003e\n      \u003ctd\u003e7.000000\u003c/td\u003e\n      \u003ctd\u003e7.000000\u003c/td\u003e\n      \u003ctd\u003e4.00000\u003c/td\u003e\n    \u003c/tr\u003e\n    \u003ctr\u003e\n      \u003cth\u003emean\u003c/th\u003e\n      \u003ctd\u003e4019.800000\u003c/td\u003e\n      \u003ctd\u003e2792.285714\u003c/td\u003e\n      \u003ctd\u003e3937.571429\u003c/td\u003e\n      \u003ctd\u003e2952.857143\u003c/td\u003e\n      \u003ctd\u003e5694.25000\u003c/td\u003e\n    \u003c/tr\u003e\n    \u003ctr\u003e\n      \u003cth\u003estd\u003c/th\u003e\n      \u003ctd\u003e3670.560339\u003c/td\u003e\n      \u003ctd\u003e1930.958632\u003c/td\u003e\n      \u003ctd\u003e1788.046780\u003c/td\u003e\n      \u003ctd\u003e1377.858293\u003c/td\u003e\n      \u003ctd\u003e428.52567\u003c/td\u003e\n    \u003c/tr\u003e\n    \u003ctr\u003e\n      \u003cth\u003emin\u003c/th\u003e\n      \u003ctd\u003e0.000000\u003c/td\u003e\n      \u003ctd\u003e0.000000\u003c/td\u003e\n      \u003ctd\u003e0.000000\u003c/td\u003e\n      \u003ctd\u003e0.000000\u003c/td\u003e\n      \u003ctd\u003e5199.00000\u003c/td\u003e\n    \u003c/tr\u003e\n    \u003ctr\u003e\n      \u003cth\u003e25%\u003c/th\u003e\n      \u003ctd\u003e0.000000\u003c/td\u003e\n      \u003ctd\u003e1733.500000\u003c/td\u003e\n      \u003ctd\u003e4113.000000\u003c/td\u003e\n      \u003ctd\u003e3056.500000\u003c/td\u003e\n      \u003ctd\u003e5481.00000\u003c/td\u003e\n    \u003c/tr\u003e\n    \u003ctr\u003e\n      \u003cth\u003e50%\u003c/th\u003e\n      \u003ctd\u003e6574.000000\u003c/td\u003e\n      \u003ctd\u003e3549.000000\u003c/td\u003e\n      \u003ctd\u003e4594.000000\u003c/td\u003e\n      \u003ctd\u003e3198.000000\u003c/td\u003e\n      \u003ctd\u003e5675.00000\u003c/td\u003e\n    \u003c/tr\u003e\n    \u003ctr\u003e\n      \u003cth\u003e75%\u003c/th\u003e\n      \u003ctd\u003e6709.000000\u003c/td\u003e\n      \u003ctd\u003e4168.000000\u003c/td\u003e\n      \u003ctd\u003e4683.000000\u003c/td\u003e\n      \u003ctd\u003e3520.500000\u003c/td\u003e\n      \u003ctd\u003e5888.25000\u003c/td\u003e\n    \u003c/tr\u003e\n    \u003ctr\u003e\n      \u003cth\u003emax\u003c/th\u003e\n      \u003ctd\u003e6816.000000\u003c/td\u003e\n      \u003ctd\u003e4194.000000\u003c/td\u003e\n      \u003ctd\u003e5377.000000\u003c/td\u003e\n      \u003ctd\u003e4318.000000\u003c/td\u003e\n      \u003ctd\u003e6228.00000\u003c/td\u003e\n    \u003c/tr\u003e\n  \u003c/tbody\u003e\n\u003c/table\u003e\n\u003c/div\u003e",
                        "text/plain": "Week             1            2            3            4           5\ncount     5.000000     7.000000     7.000000     7.000000     4.00000\nmean   4019.800000  2792.285714  3937.571429  2952.857143  5694.25000\nstd    3670.560339  1930.958632  1788.046780  1377.858293   428.52567\nmin       0.000000     0.000000     0.000000     0.000000  5199.00000\n25%       0.000000  1733.500000  4113.000000  3056.500000  5481.00000\n50%    6574.000000  3549.000000  4594.000000  3198.000000  5675.00000\n75%    6709.000000  4168.000000  4683.000000  3520.500000  5888.25000\nmax    6816.000000  4194.000000  5377.000000  4318.000000  6228.00000"
                    },
                    "metadata": {},
                    "output_type": "display_data"
                }
            ],
            "source": [
                "\n",
                "SaleDay4 = Q2.T.describe()\n",
                "\n",
                "var = Q2.T.var(axis = 0)\n",
                "print(var)\n",
                "var.values \n",
                "display(SaleDay4)"
            ]
        },
        {
            "cell_type": "code",
            "execution_count": 20,
            "metadata": {},
            "outputs": [
                {
                    "data": {
                        "text/html": "\u003cdiv\u003e\n\u003cstyle scoped\u003e\n    .dataframe tbody tr th:only-of-type {\n        vertical-align: middle;\n    }\n\n    .dataframe tbody tr th {\n        vertical-align: top;\n    }\n\n    .dataframe thead th {\n        text-align: right;\n    }\n\u003c/style\u003e\n\u003ctable border=\"1\" class=\"dataframe\"\u003e\n  \u003cthead\u003e\n    \u003ctr style=\"text-align: right;\"\u003e\n      \u003cth\u003eStatistics\u003c/th\u003e\n      \u003cth\u003eMean\u003c/th\u003e\n      \u003cth\u003eVariance\u003c/th\u003e\n      \u003cth\u003eMin\u003c/th\u003e\n      \u003cth\u003e25%\u003c/th\u003e\n      \u003cth\u003e50%\u003c/th\u003e\n      \u003cth\u003e75%\u003c/th\u003e\n      \u003cth\u003eMax\u003c/th\u003e\n    \u003c/tr\u003e\n    \u003ctr\u003e\n      \u003cth\u003eWeek\u003c/th\u003e\n      \u003cth\u003e\u003c/th\u003e\n      \u003cth\u003e\u003c/th\u003e\n      \u003cth\u003e\u003c/th\u003e\n      \u003cth\u003e\u003c/th\u003e\n      \u003cth\u003e\u003c/th\u003e\n      \u003cth\u003e\u003c/th\u003e\n      \u003cth\u003e\u003c/th\u003e\n    \u003c/tr\u003e\n  \u003c/thead\u003e\n  \u003ctbody\u003e\n    \u003ctr\u003e\n      \u003cth\u003e1\u003c/th\u003e\n      \u003ctd\u003e4019.800000\u003c/td\u003e\n      \u003ctd\u003e1.347301e+07\u003c/td\u003e\n      \u003ctd\u003e0.0\u003c/td\u003e\n      \u003ctd\u003e0.0\u003c/td\u003e\n      \u003ctd\u003e6574.0\u003c/td\u003e\n      \u003ctd\u003e6709.00\u003c/td\u003e\n      \u003ctd\u003e6816.0\u003c/td\u003e\n    \u003c/tr\u003e\n    \u003ctr\u003e\n      \u003cth\u003e2\u003c/th\u003e\n      \u003ctd\u003e2792.285714\u003c/td\u003e\n      \u003ctd\u003e3.728601e+06\u003c/td\u003e\n      \u003ctd\u003e0.0\u003c/td\u003e\n      \u003ctd\u003e1733.5\u003c/td\u003e\n      \u003ctd\u003e3549.0\u003c/td\u003e\n      \u003ctd\u003e4168.00\u003c/td\u003e\n      \u003ctd\u003e4194.0\u003c/td\u003e\n    \u003c/tr\u003e\n    \u003ctr\u003e\n      \u003cth\u003e3\u003c/th\u003e\n      \u003ctd\u003e3937.571429\u003c/td\u003e\n      \u003ctd\u003e3.197111e+06\u003c/td\u003e\n      \u003ctd\u003e0.0\u003c/td\u003e\n      \u003ctd\u003e4113.0\u003c/td\u003e\n      \u003ctd\u003e4594.0\u003c/td\u003e\n      \u003ctd\u003e4683.00\u003c/td\u003e\n      \u003ctd\u003e5377.0\u003c/td\u003e\n    \u003c/tr\u003e\n    \u003ctr\u003e\n      \u003cth\u003e4\u003c/th\u003e\n      \u003ctd\u003e2952.857143\u003c/td\u003e\n      \u003ctd\u003e1.898493e+06\u003c/td\u003e\n      \u003ctd\u003e0.0\u003c/td\u003e\n      \u003ctd\u003e3056.5\u003c/td\u003e\n      \u003ctd\u003e3198.0\u003c/td\u003e\n      \u003ctd\u003e3520.50\u003c/td\u003e\n      \u003ctd\u003e4318.0\u003c/td\u003e\n    \u003c/tr\u003e\n    \u003ctr\u003e\n      \u003cth\u003e5\u003c/th\u003e\n      \u003ctd\u003e5694.250000\u003c/td\u003e\n      \u003ctd\u003e1.836342e+05\u003c/td\u003e\n      \u003ctd\u003e5199.0\u003c/td\u003e\n      \u003ctd\u003e5481.0\u003c/td\u003e\n      \u003ctd\u003e5675.0\u003c/td\u003e\n      \u003ctd\u003e5888.25\u003c/td\u003e\n      \u003ctd\u003e6228.0\u003c/td\u003e\n    \u003c/tr\u003e\n  \u003c/tbody\u003e\n\u003c/table\u003e\n\u003c/div\u003e",
                        "text/plain": "Statistics         Mean      Variance     Min     25%     50%      75%     Max\nWeek                                                                          \n1           4019.800000  1.347301e+07     0.0     0.0  6574.0  6709.00  6816.0\n2           2792.285714  3.728601e+06     0.0  1733.5  3549.0  4168.00  4194.0\n3           3937.571429  3.197111e+06     0.0  4113.0  4594.0  4683.00  5377.0\n4           2952.857143  1.898493e+06     0.0  3056.5  3198.0  3520.50  4318.0\n5           5694.250000  1.836342e+05  5199.0  5481.0  5675.0  5888.25  6228.0"
                    },
                    "metadata": {},
                    "output_type": "display_data"
                }
            ],
            "source": [
                "\n",
                "SaleDay4.index = [\"Count\",\"Mean\",\"Std\",\"min\",\"25%\", \"50%\",\"75%\",\"max\"]\n",
                "SaleDay4.index.name = \"Statistics\"\n",
                "SaleDay4 = SaleDay4.T\n",
                "SaleDay4 = SaleDay4.drop([\"Count\"], axis = 1)\n",
                "\n",
                "\n",
                "SaleDay4[\"Std\"] = np.square(SaleDay4[\"Std\"])\n",
                "SaleDay4.rename({\"Std\" :\"Variance\"},axis = 1, inplace = True)\n",
                "\n",
                "#SaleDay4.insert(1, \"Variance\", var)\n",
                "\n",
                "display(SaleDay4)\n",
                "\n",
                "\n",
                "\n",
                "\n",
                ""
            ]
        },
        {
            "cell_type": "code",
            "execution_count": 21,
            "metadata": {},
            "outputs": [],
            "source": [
                ""
            ]
        },
        {
            "cell_type": "code",
            "execution_count": 22,
            "metadata": {},
            "outputs": [],
            "source": [
                "\n",
                ""
            ]
        },
        {
            "attachments": {},
            "cell_type": "markdown",
            "metadata": {},
            "source": [
                "## Q5. [7 Points]\n",
                "\n",
                "Based on Q2 dataset, compute which DayOfWeek has the highest average sales. When compute the average sales, only use sales values higher than 0. "
            ]
        },
        {
            "cell_type": "code",
            "execution_count": 23,
            "metadata": {},
            "outputs": [
                {
                    "data": {
                        "text/html": "\u003cdiv\u003e\n\u003cstyle scoped\u003e\n    .dataframe tbody tr th:only-of-type {\n        vertical-align: middle;\n    }\n\n    .dataframe tbody tr th {\n        vertical-align: top;\n    }\n\n    .dataframe thead th {\n        text-align: right;\n    }\n\u003c/style\u003e\n\u003ctable border=\"1\" class=\"dataframe\"\u003e\n  \u003cthead\u003e\n    \u003ctr style=\"text-align: right;\"\u003e\n      \u003cth\u003eDayOfWeek\u003c/th\u003e\n      \u003cth\u003eMon\u003c/th\u003e\n      \u003cth\u003eTue\u003c/th\u003e\n      \u003cth\u003eWed\u003c/th\u003e\n      \u003cth\u003eThu\u003c/th\u003e\n      \u003cth\u003eFri\u003c/th\u003e\n      \u003cth\u003eSat\u003c/th\u003e\n      \u003cth\u003eSun\u003c/th\u003e\n    \u003c/tr\u003e\n    \u003ctr\u003e\n      \u003cth\u003eWeek\u003c/th\u003e\n      \u003cth\u003e\u003c/th\u003e\n      \u003cth\u003e\u003c/th\u003e\n      \u003cth\u003e\u003c/th\u003e\n      \u003cth\u003e\u003c/th\u003e\n      \u003cth\u003e\u003c/th\u003e\n      \u003cth\u003e\u003c/th\u003e\n      \u003cth\u003e\u003c/th\u003e\n    \u003c/tr\u003e\n  \u003c/thead\u003e\n  \u003ctbody\u003e\n    \u003ctr\u003e\n      \u003cth\u003e1\u003c/th\u003e\n      \u003ctd\u003eNaN\u003c/td\u003e\n      \u003ctd\u003eNaN\u003c/td\u003e\n      \u003ctd\u003e6816.0\u003c/td\u003e\n      \u003ctd\u003e6574.0\u003c/td\u003e\n      \u003ctd\u003eNaN\u003c/td\u003e\n      \u003ctd\u003e6709.0\u003c/td\u003e\n      \u003ctd\u003eNaN\u003c/td\u003e\n    \u003c/tr\u003e\n    \u003ctr\u003e\n      \u003cth\u003e2\u003c/th\u003e\n      \u003ctd\u003eNaN\u003c/td\u003e\n      \u003ctd\u003e4163.0\u003c/td\u003e\n      \u003ctd\u003e4194.0\u003c/td\u003e\n      \u003ctd\u003e3467.0\u003c/td\u003e\n      \u003ctd\u003e3549.0\u003c/td\u003e\n      \u003ctd\u003e4173.0\u003c/td\u003e\n      \u003ctd\u003eNaN\u003c/td\u003e\n    \u003c/tr\u003e\n    \u003ctr\u003e\n      \u003cth\u003e3\u003c/th\u003e\n      \u003ctd\u003e5377.0\u003c/td\u003e\n      \u003ctd\u003e4648.0\u003c/td\u003e\n      \u003ctd\u003e4110.0\u003c/td\u003e\n      \u003ctd\u003e4116.0\u003c/td\u003e\n      \u003ctd\u003e4718.0\u003c/td\u003e\n      \u003ctd\u003e4594.0\u003c/td\u003e\n      \u003ctd\u003eNaN\u003c/td\u003e\n    \u003c/tr\u003e\n    \u003ctr\u003e\n      \u003cth\u003e4\u003c/th\u003e\n      \u003ctd\u003e3722.0\u003c/td\u003e\n      \u003ctd\u003e3037.0\u003c/td\u003e\n      \u003ctd\u003e3319.0\u003c/td\u003e\n      \u003ctd\u003e3076.0\u003c/td\u003e\n      \u003ctd\u003e3198.0\u003c/td\u003e\n      \u003ctd\u003e4318.0\u003c/td\u003e\n      \u003ctd\u003eNaN\u003c/td\u003e\n    \u003c/tr\u003e\n    \u003ctr\u003e\n      \u003cth\u003e5\u003c/th\u003e\n      \u003ctd\u003e5575.0\u003c/td\u003e\n      \u003ctd\u003e5199.0\u003c/td\u003e\n      \u003ctd\u003e5775.0\u003c/td\u003e\n      \u003ctd\u003e6228.0\u003c/td\u003e\n      \u003ctd\u003eNaN\u003c/td\u003e\n      \u003ctd\u003eNaN\u003c/td\u003e\n      \u003ctd\u003eNaN\u003c/td\u003e\n    \u003c/tr\u003e\n  \u003c/tbody\u003e\n\u003c/table\u003e\n\u003c/div\u003e",
                        "text/plain": "DayOfWeek     Mon     Tue     Wed     Thu     Fri     Sat  Sun\nWeek                                                          \n1             NaN     NaN  6816.0  6574.0     NaN  6709.0  NaN\n2             NaN  4163.0  4194.0  3467.0  3549.0  4173.0  NaN\n3          5377.0  4648.0  4110.0  4116.0  4718.0  4594.0  NaN\n4          3722.0  3037.0  3319.0  3076.0  3198.0  4318.0  NaN\n5          5575.0  5199.0  5775.0  6228.0     NaN     NaN  NaN"
                    },
                    "metadata": {},
                    "output_type": "display_data"
                },
                {
                    "data": {
                        "text/html": "\u003cdiv\u003e\n\u003cstyle scoped\u003e\n    .dataframe tbody tr th:only-of-type {\n        vertical-align: middle;\n    }\n\n    .dataframe tbody tr th {\n        vertical-align: top;\n    }\n\n    .dataframe thead th {\n        text-align: right;\n    }\n\u003c/style\u003e\n\u003ctable border=\"1\" class=\"dataframe\"\u003e\n  \u003cthead\u003e\n    \u003ctr style=\"text-align: right;\"\u003e\n      \u003cth\u003eDayOfWeek\u003c/th\u003e\n      \u003cth\u003eMon\u003c/th\u003e\n      \u003cth\u003eTue\u003c/th\u003e\n      \u003cth\u003eWed\u003c/th\u003e\n      \u003cth\u003eThu\u003c/th\u003e\n      \u003cth\u003eFri\u003c/th\u003e\n      \u003cth\u003eSat\u003c/th\u003e\n      \u003cth\u003eSun\u003c/th\u003e\n    \u003c/tr\u003e\n    \u003ctr\u003e\n      \u003cth\u003eWeek\u003c/th\u003e\n      \u003cth\u003e\u003c/th\u003e\n      \u003cth\u003e\u003c/th\u003e\n      \u003cth\u003e\u003c/th\u003e\n      \u003cth\u003e\u003c/th\u003e\n      \u003cth\u003e\u003c/th\u003e\n      \u003cth\u003e\u003c/th\u003e\n      \u003cth\u003e\u003c/th\u003e\n    \u003c/tr\u003e\n  \u003c/thead\u003e\n  \u003ctbody\u003e\n    \u003ctr\u003e\n      \u003cth\u003e1\u003c/th\u003e\n      \u003ctd\u003eNaN\u003c/td\u003e\n      \u003ctd\u003eNaN\u003c/td\u003e\n      \u003ctd\u003e6816.0\u003c/td\u003e\n      \u003ctd\u003e6574.0\u003c/td\u003e\n      \u003ctd\u003eNaN\u003c/td\u003e\n      \u003ctd\u003e6709.0\u003c/td\u003e\n      \u003ctd\u003eNaN\u003c/td\u003e\n    \u003c/tr\u003e\n    \u003ctr\u003e\n      \u003cth\u003e2\u003c/th\u003e\n      \u003ctd\u003eNaN\u003c/td\u003e\n      \u003ctd\u003e4163.00\u003c/td\u003e\n      \u003ctd\u003e4194.0\u003c/td\u003e\n      \u003ctd\u003e3467.0\u003c/td\u003e\n      \u003ctd\u003e3549.000000\u003c/td\u003e\n      \u003ctd\u003e4173.0\u003c/td\u003e\n      \u003ctd\u003eNaN\u003c/td\u003e\n    \u003c/tr\u003e\n    \u003ctr\u003e\n      \u003cth\u003e3\u003c/th\u003e\n      \u003ctd\u003e5377.000000\u003c/td\u003e\n      \u003ctd\u003e4648.00\u003c/td\u003e\n      \u003ctd\u003e4110.0\u003c/td\u003e\n      \u003ctd\u003e4116.0\u003c/td\u003e\n      \u003ctd\u003e4718.000000\u003c/td\u003e\n      \u003ctd\u003e4594.0\u003c/td\u003e\n      \u003ctd\u003eNaN\u003c/td\u003e\n    \u003c/tr\u003e\n    \u003ctr\u003e\n      \u003cth\u003e4\u003c/th\u003e\n      \u003ctd\u003e3722.000000\u003c/td\u003e\n      \u003ctd\u003e3037.00\u003c/td\u003e\n      \u003ctd\u003e3319.0\u003c/td\u003e\n      \u003ctd\u003e3076.0\u003c/td\u003e\n      \u003ctd\u003e3198.000000\u003c/td\u003e\n      \u003ctd\u003e4318.0\u003c/td\u003e\n      \u003ctd\u003eNaN\u003c/td\u003e\n    \u003c/tr\u003e\n    \u003ctr\u003e\n      \u003cth\u003e5\u003c/th\u003e\n      \u003ctd\u003e5575.000000\u003c/td\u003e\n      \u003ctd\u003e5199.00\u003c/td\u003e\n      \u003ctd\u003e5775.0\u003c/td\u003e\n      \u003ctd\u003e6228.0\u003c/td\u003e\n      \u003ctd\u003eNaN\u003c/td\u003e\n      \u003ctd\u003eNaN\u003c/td\u003e\n      \u003ctd\u003eNaN\u003c/td\u003e\n    \u003c/tr\u003e\n    \u003ctr\u003e\n      \u003cth\u003eavg\u003c/th\u003e\n      \u003ctd\u003e4891.333333\u003c/td\u003e\n      \u003ctd\u003e4261.75\u003c/td\u003e\n      \u003ctd\u003e4842.8\u003c/td\u003e\n      \u003ctd\u003e4692.2\u003c/td\u003e\n      \u003ctd\u003e3821.666667\u003c/td\u003e\n      \u003ctd\u003e4948.5\u003c/td\u003e\n      \u003ctd\u003eNaN\u003c/td\u003e\n    \u003c/tr\u003e\n  \u003c/tbody\u003e\n\u003c/table\u003e\n\u003c/div\u003e",
                        "text/plain": "DayOfWeek          Mon      Tue     Wed     Thu          Fri     Sat  Sun\nWeek                                                                     \n1                  NaN      NaN  6816.0  6574.0          NaN  6709.0  NaN\n2                  NaN  4163.00  4194.0  3467.0  3549.000000  4173.0  NaN\n3          5377.000000  4648.00  4110.0  4116.0  4718.000000  4594.0  NaN\n4          3722.000000  3037.00  3319.0  3076.0  3198.000000  4318.0  NaN\n5          5575.000000  5199.00  5775.0  6228.0          NaN     NaN  NaN\navg        4891.333333  4261.75  4842.8  4692.2  3821.666667  4948.5  NaN"
                    },
                    "metadata": {},
                    "output_type": "display_data"
                },
                {
                    "name": "stdout",
                    "output_type": "stream",
                    "text": "Sat\n"
                }
            ],
            "source": [
                " SaleDay5 = Q2.copy().replace(0, np.nan)\n",
                " display(SaleDay5)\n",
                " SaleDay5.loc[\"avg\"] = SaleDay5.mean()\n",
                "display(SaleDay5)\n",
                "## get the index of the maximum value of the last row \n",
                "max_sales = SaleDay5.iloc[-1].idxmax()\n",
                "print(max_sales)"
            ]
        },
        {
            "cell_type": "code",
            "execution_count": 24,
            "metadata": {},
            "outputs": [],
            "source": [
                ""
            ]
        }
    ]
}
