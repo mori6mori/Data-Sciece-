{
    "metadata": {
        "kernelspec": {
            "name": "python3",
            "display_name": "Python 3 (ipykernel)",
            "language": "python"
        }
    },
    "nbformat": 4,
    "nbformat_minor": 2,
    "cells": [
        {
            "cell_type": "code",
            "execution_count": 1,
            "metadata": {},
            "outputs": [],
            "source": [
                "from sklearn.linear_model  import LinearRegression  \n",
                "from sklearn.metrics import mean_squared_error \n",
                "import pandas as pd\n",
                "import numpy as np\n",
                "import matplotlib.pyplot as plt "
            ]
        },
        {
            "cell_type": "code",
            "execution_count": 2,
            "metadata": {
                "scrolled": true
            },
            "outputs": [
                {
                    "name": "stderr",
                    "output_type": "stream",
                    "text": "/tmp/ipykernel_32/615166923.py:2: DeprecationWarning: In a future version, `df.iloc[:, i] = newvals` will attempt to set the values inplace instead of always setting a new array. To retain the old behavior, use either `df[df.columns[i]] = newvals` or, if columns are non-unique, `df.isetitem(i, newvals)`\n  sales.iloc[:,2::]=sales.iloc[:,2::].astype(\"float\")\n"
                },
                {
                    "data": {
                        "text/html": "\u003cdiv\u003e\n\u003cstyle scoped\u003e\n    .dataframe tbody tr th:only-of-type {\n        vertical-align: middle;\n    }\n\n    .dataframe tbody tr th {\n        vertical-align: top;\n    }\n\n    .dataframe thead th {\n        text-align: right;\n    }\n\u003c/style\u003e\n\u003ctable border=\"1\" class=\"dataframe\"\u003e\n  \u003cthead\u003e\n    \u003ctr style=\"text-align: right;\"\u003e\n      \u003cth\u003e\u003c/th\u003e\n      \u003cth\u003eBOROUGH\u003c/th\u003e\n      \u003cth\u003eNEIGHBORHOOD\u003c/th\u003e\n      \u003cth\u003eRESIDENTIAL_UNITS\u003c/th\u003e\n      \u003cth\u003eCOMMERCIAL_UNITS\u003c/th\u003e\n      \u003cth\u003eTOTAL_UNITS\u003c/th\u003e\n      \u003cth\u003eLAND_SQUARE_FEET\u003c/th\u003e\n      \u003cth\u003eGROSS_SQUARE_FEET\u003c/th\u003e\n      \u003cth\u003eYEAR_BUILT\u003c/th\u003e\n      \u003cth\u003eSALE_PRICE\u003c/th\u003e\n      \u003cth\u003elog_GSF\u003c/th\u003e\n      \u003cth\u003elog_SP\u003c/th\u003e\n    \u003c/tr\u003e\n  \u003c/thead\u003e\n  \u003ctbody\u003e\n    \u003ctr\u003e\n      \u003cth\u003e0\u003c/th\u003e\n      \u003ctd\u003e3\u003c/td\u003e\n      \u003ctd\u003eWINDSOR TERRACE\u003c/td\u003e\n      \u003ctd\u003e3.0\u003c/td\u003e\n      \u003ctd\u003e0.0\u003c/td\u003e\n      \u003ctd\u003e3.0\u003c/td\u003e\n      \u003ctd\u003e1260.0\u003c/td\u003e\n      \u003ctd\u003e4209.0\u003c/td\u003e\n      \u003ctd\u003e1920.0\u003c/td\u003e\n      \u003ctd\u003e2200000.0\u003c/td\u003e\n      \u003ctd\u003e8.344980\u003c/td\u003e\n      \u003ctd\u003e14.603968\u003c/td\u003e\n    \u003c/tr\u003e\n    \u003ctr\u003e\n      \u003cth\u003e1\u003c/th\u003e\n      \u003ctd\u003e3\u003c/td\u003e\n      \u003ctd\u003eDOWNTOWN-METROTECH\u003c/td\u003e\n      \u003ctd\u003e3.0\u003c/td\u003e\n      \u003ctd\u003e0.0\u003c/td\u003e\n      \u003ctd\u003e3.0\u003c/td\u003e\n      \u003ctd\u003e2175.0\u003c/td\u003e\n      \u003ctd\u003e2116.0\u003c/td\u003e\n      \u003ctd\u003e1910.0\u003c/td\u003e\n      \u003ctd\u003e1850000.0\u003c/td\u003e\n      \u003ctd\u003e7.657283\u003c/td\u003e\n      \u003ctd\u003e14.430696\u003c/td\u003e\n    \u003c/tr\u003e\n    \u003ctr\u003e\n      \u003cth\u003e2\u003c/th\u003e\n      \u003ctd\u003e2\u003c/td\u003e\n      \u003ctd\u003eWILLIAMSBRIDGE\u003c/td\u003e\n      \u003ctd\u003e2.0\u003c/td\u003e\n      \u003ctd\u003e0.0\u003c/td\u003e\n      \u003ctd\u003e2.0\u003c/td\u003e\n      \u003ctd\u003e1520.0\u003c/td\u003e\n      \u003ctd\u003e3852.0\u003c/td\u003e\n      \u003ctd\u003e2005.0\u003c/td\u003e\n      \u003ctd\u003e599000.0\u003c/td\u003e\n      \u003ctd\u003e8.256348\u003c/td\u003e\n      \u003ctd\u003e13.303017\u003c/td\u003e\n    \u003c/tr\u003e\n    \u003ctr\u003e\n      \u003cth\u003e3\u003c/th\u003e\n      \u003ctd\u003e4\u003c/td\u003e\n      \u003ctd\u003eST. ALBANS\u003c/td\u003e\n      \u003ctd\u003e1.0\u003c/td\u003e\n      \u003ctd\u003e0.0\u003c/td\u003e\n      \u003ctd\u003e1.0\u003c/td\u003e\n      \u003ctd\u003e2675.0\u003c/td\u003e\n      \u003ctd\u003e1014.0\u003c/td\u003e\n      \u003ctd\u003e1960.0\u003c/td\u003e\n      \u003ctd\u003e460000.0\u003c/td\u003e\n      \u003ctd\u003e6.921658\u003c/td\u003e\n      \u003ctd\u003e13.038982\u003c/td\u003e\n    \u003c/tr\u003e\n    \u003ctr\u003e\n      \u003cth\u003e4\u003c/th\u003e\n      \u003ctd\u003e4\u003c/td\u003e\n      \u003ctd\u003eOZONE PARK\u003c/td\u003e\n      \u003ctd\u003e2.0\u003c/td\u003e\n      \u003ctd\u003e0.0\u003c/td\u003e\n      \u003ctd\u003e2.0\u003c/td\u003e\n      \u003ctd\u003e1700.0\u003c/td\u003e\n      \u003ctd\u003e2176.0\u003c/td\u003e\n      \u003ctd\u003e1920.0\u003c/td\u003e\n      \u003ctd\u003e469775.0\u003c/td\u003e\n      \u003ctd\u003e7.685244\u003c/td\u003e\n      \u003ctd\u003e13.060009\u003c/td\u003e\n    \u003c/tr\u003e\n    \u003ctr\u003e\n      \u003cth\u003e...\u003c/th\u003e\n      \u003ctd\u003e...\u003c/td\u003e\n      \u003ctd\u003e...\u003c/td\u003e\n      \u003ctd\u003e...\u003c/td\u003e\n      \u003ctd\u003e...\u003c/td\u003e\n      \u003ctd\u003e...\u003c/td\u003e\n      \u003ctd\u003e...\u003c/td\u003e\n      \u003ctd\u003e...\u003c/td\u003e\n      \u003ctd\u003e...\u003c/td\u003e\n      \u003ctd\u003e...\u003c/td\u003e\n      \u003ctd\u003e...\u003c/td\u003e\n      \u003ctd\u003e...\u003c/td\u003e\n    \u003c/tr\u003e\n    \u003ctr\u003e\n      \u003cth\u003e1458\u003c/th\u003e\n      \u003ctd\u003e3\u003c/td\u003e\n      \u003ctd\u003ePARK SLOPE\u003c/td\u003e\n      \u003ctd\u003e1.0\u003c/td\u003e\n      \u003ctd\u003e0.0\u003c/td\u003e\n      \u003ctd\u003e1.0\u003c/td\u003e\n      \u003ctd\u003e1700.0\u003c/td\u003e\n      \u003ctd\u003e2559.0\u003c/td\u003e\n      \u003ctd\u003e1901.0\u003c/td\u003e\n      \u003ctd\u003e3600000.0\u003c/td\u003e\n      \u003ctd\u003e7.847372\u003c/td\u003e\n      \u003ctd\u003e15.096444\u003c/td\u003e\n    \u003c/tr\u003e\n    \u003ctr\u003e\n      \u003cth\u003e1459\u003c/th\u003e\n      \u003ctd\u003e4\u003c/td\u003e\n      \u003ctd\u003eST. ALBANS\u003c/td\u003e\n      \u003ctd\u003e2.0\u003c/td\u003e\n      \u003ctd\u003e0.0\u003c/td\u003e\n      \u003ctd\u003e2.0\u003c/td\u003e\n      \u003ctd\u003e2950.0\u003c/td\u003e\n      \u003ctd\u003e1620.0\u003c/td\u003e\n      \u003ctd\u003e1920.0\u003c/td\u003e\n      \u003ctd\u003e665000.0\u003c/td\u003e\n      \u003ctd\u003e7.390181\u003c/td\u003e\n      \u003ctd\u003e13.407542\u003c/td\u003e\n    \u003c/tr\u003e\n    \u003ctr\u003e\n      \u003cth\u003e1460\u003c/th\u003e\n      \u003ctd\u003e4\u003c/td\u003e\n      \u003ctd\u003eBEECHHURST\u003c/td\u003e\n      \u003ctd\u003e1.0\u003c/td\u003e\n      \u003ctd\u003e0.0\u003c/td\u003e\n      \u003ctd\u003e1.0\u003c/td\u003e\n      \u003ctd\u003e5000.0\u003c/td\u003e\n      \u003ctd\u003e1932.0\u003c/td\u003e\n      \u003ctd\u003e1930.0\u003c/td\u003e\n      \u003ctd\u003e1145000.0\u003c/td\u003e\n      \u003ctd\u003e7.566311\u003c/td\u003e\n      \u003ctd\u003e13.950915\u003c/td\u003e\n    \u003c/tr\u003e\n    \u003ctr\u003e\n      \u003cth\u003e1461\u003c/th\u003e\n      \u003ctd\u003e5\u003c/td\u003e\n      \u003ctd\u003eNEW SPRINGVILLE\u003c/td\u003e\n      \u003ctd\u003e2.0\u003c/td\u003e\n      \u003ctd\u003e0.0\u003c/td\u003e\n      \u003ctd\u003e2.0\u003c/td\u003e\n      \u003ctd\u003e4200.0\u003c/td\u003e\n      \u003ctd\u003e2550.0\u003c/td\u003e\n      \u003ctd\u003e1970.0\u003c/td\u003e\n      \u003ctd\u003e743000.0\u003c/td\u003e\n      \u003ctd\u003e7.843849\u003c/td\u003e\n      \u003ctd\u003e13.518451\u003c/td\u003e\n    \u003c/tr\u003e\n    \u003ctr\u003e\n      \u003cth\u003e1462\u003c/th\u003e\n      \u003ctd\u003e4\u003c/td\u003e\n      \u003ctd\u003eLITTLE NECK\u003c/td\u003e\n      \u003ctd\u003e1.0\u003c/td\u003e\n      \u003ctd\u003e0.0\u003c/td\u003e\n      \u003ctd\u003e1.0\u003c/td\u003e\n      \u003ctd\u003e4000.0\u003c/td\u003e\n      \u003ctd\u003e1536.0\u003c/td\u003e\n      \u003ctd\u003e1950.0\u003c/td\u003e\n      \u003ctd\u003e875000.0\u003c/td\u003e\n      \u003ctd\u003e7.336937\u003c/td\u003e\n      \u003ctd\u003e13.681979\u003c/td\u003e\n    \u003c/tr\u003e\n  \u003c/tbody\u003e\n\u003c/table\u003e\n\u003cp\u003e1463 rows × 11 columns\u003c/p\u003e\n\u003c/div\u003e",
                        "text/plain": "      BOROUGH        NEIGHBORHOOD  RESIDENTIAL_UNITS  COMMERCIAL_UNITS  \\\n0           3     WINDSOR TERRACE                3.0               0.0   \n1           3  DOWNTOWN-METROTECH                3.0               0.0   \n2           2      WILLIAMSBRIDGE                2.0               0.0   \n3           4          ST. ALBANS                1.0               0.0   \n4           4          OZONE PARK                2.0               0.0   \n...       ...                 ...                ...               ...   \n1458        3          PARK SLOPE                1.0               0.0   \n1459        4          ST. ALBANS                2.0               0.0   \n1460        4          BEECHHURST                1.0               0.0   \n1461        5     NEW SPRINGVILLE                2.0               0.0   \n1462        4         LITTLE NECK                1.0               0.0   \n\n      TOTAL_UNITS  LAND_SQUARE_FEET  GROSS_SQUARE_FEET  YEAR_BUILT  \\\n0             3.0            1260.0             4209.0      1920.0   \n1             3.0            2175.0             2116.0      1910.0   \n2             2.0            1520.0             3852.0      2005.0   \n3             1.0            2675.0             1014.0      1960.0   \n4             2.0            1700.0             2176.0      1920.0   \n...           ...               ...                ...         ...   \n1458          1.0            1700.0             2559.0      1901.0   \n1459          2.0            2950.0             1620.0      1920.0   \n1460          1.0            5000.0             1932.0      1930.0   \n1461          2.0            4200.0             2550.0      1970.0   \n1462          1.0            4000.0             1536.0      1950.0   \n\n      SALE_PRICE   log_GSF     log_SP  \n0      2200000.0  8.344980  14.603968  \n1      1850000.0  7.657283  14.430696  \n2       599000.0  8.256348  13.303017  \n3       460000.0  6.921658  13.038982  \n4       469775.0  7.685244  13.060009  \n...          ...       ...        ...  \n1458   3600000.0  7.847372  15.096444  \n1459    665000.0  7.390181  13.407542  \n1460   1145000.0  7.566311  13.950915  \n1461    743000.0  7.843849  13.518451  \n1462    875000.0  7.336937  13.681979  \n\n[1463 rows x 11 columns]"
                    },
                    "execution_count": 2,
                    "metadata": {},
                    "output_type": "execute_result"
                }
            ],
            "source": [
                " \n",
                "sales=pd.read_csv(\"NYC_Sales_Samples.csv\").replace(\"-\",np.nan).dropna()\n",
                "sales.iloc[:,2::]=sales.iloc[:,2::].astype(\"float\")\n",
                "sales=sales.assign(log_GSF=np.log(sales.GROSS_SQUARE_FEET), log_SP=np.log(sales.SALE_PRICE))\n",
                "sales=sales.sample(n=sales.shape[0],replace=False,ignore_index=True)\n",
                "sales"
            ]
        },
        {
            "attachments": {},
            "cell_type": "markdown",
            "metadata": {},
            "source": [
                "## Q1\n",
                "\n",
                "* Regress log(SALES_PRICE) on log(GROSS_SQUARE_FEET) \n",
                "\n",
                "* Predict the outcome \n",
                "\n",
                ""
            ]
        },
        {
            "cell_type": "code",
            "execution_count": 3,
            "metadata": {},
            "outputs": [
                {
                    "data": {
                        "text/plain": "0.3704118244228974"
                    },
                    "execution_count": 3,
                    "metadata": {},
                    "output_type": "execute_result"
                }
            ],
            "source": [
                "model=LinearRegression()\n",
                "model.fit(sales[[\"log_GSF\"]],sales[\"log_SP\"])\n",
                "predicted=model.predict(sales[[\"log_GSF\"]])\n",
                "mean_squared_error(sales[\"log_SP\"], predicted)"
            ]
        },
        {
            "attachments": {},
            "cell_type": "markdown",
            "metadata": {},
            "source": [
                "## Q2\n",
                "\n",
                "Use cross validation to choose the best model \n",
                "\n",
                "Model 1: log(SALES_PRICE) on log(GROSS_SQUARE_FEET) \n",
                "\n",
                "Model 2: log(SALES_PRICE) on log(GROSS_SQUARE_FEET) and noise1, noise2, noise3"
            ]
        },
        {
            "cell_type": "code",
            "execution_count": 4,
            "metadata": {},
            "outputs": [],
            "source": [
                "#generating random numbers and assigned to noise  \n",
                "sales=sales.assign(noise1=np.random.rand(sales.shape[0]),noise2=np.random.rand(sales.shape[0]),noise3=np.random.rand(sales.shape[0]))"
            ]
        },
        {
            "cell_type": "code",
            "execution_count": 5,
            "metadata": {},
            "outputs": [
                {
                    "data": {
                        "text/plain": "0.369189164181287"
                    },
                    "execution_count": 5,
                    "metadata": {},
                    "output_type": "execute_result"
                }
            ],
            "source": [
                "# MSE always lower (favor more complex model without cross validation)\n",
                "# more noise always decrease MSE \n",
                "model=LinearRegression()\n",
                "List1=[\"log_GSF\",\"noise1\",\"noise2\",\"noise3\"]\n",
                "model.fit(sales[List1],sales[\"log_SP\"])\n",
                "predicted=model.predict(sales[List1])\n",
                "mean_squared_error(sales[\"log_SP\"], predicted)"
            ]
        },
        {
            "cell_type": "code",
            "execution_count": 6,
            "metadata": {},
            "outputs": [],
            "source": [
                "# split data to training, validation and testing \n",
                "Train=sales[0:1000:]\n",
                "Valid=sales[1000:1200:]\n",
                "Test=sales[1200::]"
            ]
        },
        {
            "cell_type": "code",
            "execution_count": 7,
            "metadata": {},
            "outputs": [
                {
                    "data": {
                        "text/plain": "0.2642656448591363"
                    },
                    "execution_count": 7,
                    "metadata": {},
                    "output_type": "execute_result"
                }
            ],
            "source": [
                "# simple model better\n",
                "# first model\n",
                "model=LinearRegression()\n",
                "model.fit(Train[[\"log_GSF\"]],Train[\"log_SP\"])\n",
                "predicted=model.predict(Valid[[\"log_GSF\"]])\n",
                "mean_squared_error(Valid[\"log_SP\"], predicted)"
            ]
        },
        {
            "cell_type": "code",
            "execution_count": 8,
            "metadata": {},
            "outputs": [
                {
                    "data": {
                        "text/plain": "0.26805331171116087"
                    },
                    "execution_count": 8,
                    "metadata": {},
                    "output_type": "execute_result"
                }
            ],
            "source": [
                "# Second model\n",
                "model=LinearRegression()\n",
                "model.fit(Train[List1],Train[\"log_SP\"])\n",
                "predicted=model.predict(Valid[List1])\n",
                "mean_squared_error(Valid[\"log_SP\"], predicted)"
            ]
        },
        {
            "cell_type": "code",
            "execution_count": 9,
            "metadata": {},
            "outputs": [
                {
                    "data": {
                        "text/plain": "0.2616276739952172"
                    },
                    "execution_count": 9,
                    "metadata": {},
                    "output_type": "execute_result"
                }
            ],
            "source": [
                "Train_Valid = pd.concat ([Train, Valid])\n",
                "model.fit(Train_Valid[[\"log_GSF\"]], Train_Valid[\"log_SP\"])\n",
                "predicted=model.predict(Valid[[\"log_GSF\"]])\n",
                "mean_squared_error(predicted, Valid[\"log_SP\"]) # train better model\n",
                "\n",
                "# us"
            ]
        }
    ]
}
