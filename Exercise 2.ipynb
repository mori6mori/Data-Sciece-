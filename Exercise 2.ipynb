{
    "metadata": {
        "kernelspec": {
            "name": "python3",
            "display_name": "Python 3 (ipykernel)",
            "language": "python"
        }
    },
    "nbformat": 4,
    "nbformat_minor": 4,
    "cells": [
        {
            "cell_type": "code",
            "execution_count": 35,
            "metadata": {},
            "outputs": [],
            "source": [
                "## Packages needed for this exercise\n",
                "import numpy as np\n",
                "import decimal\n",
                "import math"
            ]
        },
        {
            "attachments": {},
            "cell_type": "markdown",
            "metadata": {},
            "source": [
                "## Setting\n",
                "\n",
                "In this exercise, we work on practice questions on `array` object. "
            ]
        },
        {
            "attachments": {},
            "cell_type": "markdown",
            "metadata": {},
            "source": [
                "## Q1. [8 Points]\n",
                "\n",
                "\n",
                "* `Decimal(a)` function inside `decimal` module can be used to print the actual value of float `a` stored on the computer.\n",
                "\n",
                "\u003e For example when you use `decimal.Decimal(0.1)`, the output will be `Decimal('0.1000000000000000055511151231257827021181583404541015625')`\n",
                "\n",
                "* `ceil(b)` function inside `math` module can be used to perform the ceil operation on `b`. \n",
                "\n",
                "\n",
                "\n",
                "\n",
                "Use these two functions to demonstrate the following\n",
                "`np.arange(1,1.3,0.1)`\n",
                "and `np.arange(1,1.4,0.1)` both returns 1, 1.1, 1.2, and 1.3. Make sure to carely show the following:\n",
                "\n",
                "* (1) Compute the number of elements in concluded \n",
                "* (2) Demonstrate **WHY** the number of elements is the same in both cases.\n",
                "* (3) After we compute the number of elements, how  is the sequence of numbers determined? \n",
                "\n",
                ""
            ]
        },
        {
            "cell_type": "code",
            "execution_count": 36,
            "metadata": {},
            "outputs": [
                {
                    "data": {
                        "text/plain": "Decimal('1.3000000000000000444089209850062616169452667236328125')"
                    },
                    "execution_count": 36,
                    "metadata": {},
                    "output_type": "execute_result"
                }
            ],
            "source": [
                "decimal.Decimal(1.3)"
            ]
        },
        {
            "cell_type": "code",
            "execution_count": 37,
            "metadata": {},
            "outputs": [
                {
                    "data": {
                        "text/plain": "Decimal('1.399999999999999911182158029987476766109466552734375')"
                    },
                    "execution_count": 37,
                    "metadata": {},
                    "output_type": "execute_result"
                }
            ],
            "source": [
                "decimal.Decimal(1.4)"
            ]
        },
        {
            "cell_type": "code",
            "execution_count": 38,
            "metadata": {},
            "outputs": [],
            "source": [
                "# the number of elements are the same in both case is because the stop element is not included and 1.3 is actually larger than 1.3 determined by the Decimal method and 1.4 is smaller than 1.4\n",
                "# since the stop elememt is not included 1.3 would be the last of  np.arange(1,1.3,0.1) because the stop is larger than 1.3. np.arange(1,1.4,0.1) has the same stop element because 1.4 is actually between 1.3 and 1.4 "
            ]
        },
        {
            "cell_type": "code",
            "execution_count": 39,
            "metadata": {},
            "outputs": [
                {
                    "data": {
                        "text/plain": "4"
                    },
                    "execution_count": 39,
                    "metadata": {},
                    "output_type": "execute_result"
                }
            ],
            "source": [
                "math.ceil((decimal.Decimal((1.3-1)/0.1)) )\n",
                ""
            ]
        },
        {
            "cell_type": "code",
            "execution_count": 40,
            "metadata": {},
            "outputs": [
                {
                    "data": {
                        "text/plain": "4"
                    },
                    "execution_count": 40,
                    "metadata": {},
                    "output_type": "execute_result"
                }
            ],
            "source": [
                "math.ceil((decimal.Decimal((1.4-1)/0.1)) )"
            ]
        },
        {
            "cell_type": "code",
            "execution_count": 41,
            "metadata": {},
            "outputs": [],
            "source": [
                "#using math.ceil we can determine how many steps/elements needed and the sequence is incremented each time by the step value "
            ]
        },
        {
            "attachments": {},
            "cell_type": "markdown",
            "metadata": {},
            "source": [
                "## Q2. [3 points]\n",
                "\n",
                "Let's generate the following one-dimensional array using 3 different methods: \n",
                "\n",
                "$$-1, -1.2, -1.4, -1.6, -1.8$$\n",
                "\n",
                "\n",
                "(1) Use `np.array` function  \n",
                "\n",
                "(2) Use `np.arange` function  \n",
                "\n",
                "(3) Use `np.linspace` function  \n",
                "\n",
                " \n",
                "\n",
                "       \n",
                ""
            ]
        },
        {
            "cell_type": "code",
            "execution_count": 42,
            "metadata": {},
            "outputs": [
                {
                    "name": "stdout",
                    "output_type": "stream",
                    "text": "[-1.  -1.2 -1.4 -1.6 -1.8]\n"
                }
            ],
            "source": [
                "a= [-1,-1.2,-1.4,-1.6,-1.8]\n",
                "a= np.array(a)\n",
                "print (a)"
            ]
        },
        {
            "cell_type": "code",
            "execution_count": 43,
            "metadata": {},
            "outputs": [
                {
                    "name": "stdout",
                    "output_type": "stream",
                    "text": "[-1.  -1.2 -1.4 -1.6 -1.8]\n"
                }
            ],
            "source": [
                "a= np.arange(-1, -2, -0.2)\n",
                "print (a)"
            ]
        },
        {
            "cell_type": "code",
            "execution_count": 44,
            "metadata": {},
            "outputs": [
                {
                    "name": "stdout",
                    "output_type": "stream",
                    "text": "[-1.  -1.2 -1.4 -1.6 -1.8]\n"
                }
            ],
            "source": [
                "a= np.linspace(-1, -2, 5, False)\n",
                "print (a)"
            ]
        },
        {
            "attachments": {},
            "cell_type": "markdown",
            "metadata": {},
            "source": [
                ""
            ]
        },
        {
            "cell_type": "code",
            "execution_count": 45,
            "metadata": {},
            "outputs": [],
            "source": [
                " # linsapce and arange automatically creats an array "
            ]
        },
        {
            "attachments": {},
            "cell_type": "markdown",
            "metadata": {},
            "source": [
                "## Q3. [8 Points]\n",
                "\n",
                "* Generate the following two-dimensional array `A1`\n",
                "\n",
                "$$\\begin{matrix} \n",
                "1\u0026 4 \u0026 6  \\\\\n",
                "2\u0026 5 \u0026 7  \\\\\n",
                "3\u0026 6 \u0026 9 \\\\\n",
                "\\end{matrix}$$\n",
                "\n",
                "\n",
                "* `size` is an attribute for `array` object, which returns the number of elements an array object has. Use `size` attribute to report the number of elements in the array `A1`. \n",
                "\n",
                "* With the help of `shape` attribute, report the number of elements in the array `A1`.  \n",
                "\n",
                "* Study `np.fill_diagonal()` function and `NumPy` `copy()` method. Create 2 arrays:\n",
                "\n",
                "\u003e* A2: Same value as A1 except for all diagonal elements are equal to 10.  \n",
                "\u003e* A1: Should stay unchanged.\n",
                "\n",
                "\n",
                "\n",
                "\n",
                "\n",
                "\n",
                "\n",
                "\n",
                ""
            ]
        },
        {
            "cell_type": "code",
            "execution_count": 46,
            "metadata": {},
            "outputs": [],
            "source": [
                "A1=np.array([[1,4,6],[2,5,7],[3,6,9]])"
            ]
        },
        {
            "cell_type": "code",
            "execution_count": 47,
            "metadata": {},
            "outputs": [
                {
                    "data": {
                        "text/plain": "9"
                    },
                    "execution_count": 47,
                    "metadata": {},
                    "output_type": "execute_result"
                }
            ],
            "source": [
                "A1.size"
            ]
        },
        {
            "cell_type": "code",
            "execution_count": 49,
            "metadata": {},
            "outputs": [
                {
                    "data": {
                        "text/plain": "9"
                    },
                    "execution_count": 49,
                    "metadata": {},
                    "output_type": "execute_result"
                }
            ],
            "source": [
                "np.prod(A1.shape) "
            ]
        },
        {
            "cell_type": "code",
            "execution_count": 15,
            "metadata": {},
            "outputs": [
                {
                    "name": "stdout",
                    "output_type": "stream",
                    "text": "[[10  4  6]\n [ 2 10  7]\n [ 3  6 10]]\n[[1 4 6]\n [2 5 7]\n [3 6 9]]\n"
                },
                {
                    "data": {
                        "text/plain": "(None, None)"
                    },
                    "execution_count": 15,
                    "metadata": {},
                    "output_type": "execute_result"
                }
            ],
            "source": [
                "A2 = A1.copy()\n",
                "np.fill_diagonal(A2,10) \n",
                "print(A2), print (A1)"
            ]
        },
        {
            "attachments": {},
            "cell_type": "markdown",
            "metadata": {},
            "source": [
                "## Q4. [5 Points]\n",
                "\n",
                "* Create `A3`, a copy of `A1`\n",
                "\n",
                "* Use slicing on both dimensions (`Array[::,::]`), retrieve the following  2-dimenional array from `A3` array. \n",
                "\n",
                "$$\\begin{matrix} \n",
                "3\u0026 9 \\\\\n",
                "2\u0026 7  \\\\\n",
                "\\end{matrix}$$\n",
                "\n",
                "* Based on the previous step,   replace `3, 9 , 2, 7` with  `1, 2, 3, 4` respectively in `A3`. The final array should be \n",
                "\n",
                "$$\\begin{matrix} \n",
                "1\u0026 4 \u0026 6  \\\\\n",
                "3\u0026 5 \u0026 4  \\\\\n",
                "1\u0026 6 \u0026 2 \\\\\n",
                "\\end{matrix}$$\n",
                "\n",
                "\n",
                ""
            ]
        },
        {
            "cell_type": "code",
            "execution_count": 16,
            "metadata": {},
            "outputs": [
                {
                    "name": "stdout",
                    "output_type": "stream",
                    "text": "[[1 4 6]\n [2 5 7]\n [3 6 9]]\n"
                }
            ],
            "source": [
                "A3 = A1.copy()\n",
                "print(A3)"
            ]
        },
        {
            "cell_type": "code",
            "execution_count": 17,
            "metadata": {},
            "outputs": [
                {
                    "data": {
                        "text/plain": "array([[3, 9],\n       [2, 7]])"
                    },
                    "execution_count": 17,
                    "metadata": {},
                    "output_type": "execute_result"
                }
            ],
            "source": [
                "A3[2:0:-1, 0:3:2]\n",
                ""
            ]
        },
        {
            "attachments": {},
            "cell_type": "markdown",
            "metadata": {},
            "source": [
                "## Q5. [5 Points]\n",
                "\n",
                "* Create `A4`, a copy of `A1`\n",
                "\n",
                "* Based `Array[[],[]]`, retrieve the following  1-dimenional array from `A4` array. \n",
                "\n",
                "$$3, 9, 2, 7$$\n",
                "\n",
                "* Based on the previous step, replace `3, 9 , 2, 7` with `1, 2, 3, 4` respectively in`A4`. \n",
                "\n",
                "The final array should be \n",
                "\n",
                "$$\\begin{matrix} \n",
                "1\u0026 4 \u0026 6  \\\\\n",
                "3\u0026 5 \u0026 4  \\\\\n",
                "1\u0026 6 \u0026 2 \\\\\n",
                "\\end{matrix}$$\n",
                "\n",
                ""
            ]
        },
        {
            "cell_type": "code",
            "execution_count": 18,
            "metadata": {},
            "outputs": [
                {
                    "data": {
                        "text/plain": "array([3, 9, 2, 7])"
                    },
                    "execution_count": 18,
                    "metadata": {},
                    "output_type": "execute_result"
                }
            ],
            "source": [
                "\n",
                "A4=A1.copy()\n",
                "A4[[2,2,1,1], [0,2,0,2]]\n",
                ""
            ]
        },
        {
            "cell_type": "code",
            "execution_count": 19,
            "metadata": {},
            "outputs": [
                {
                    "name": "stdout",
                    "output_type": "stream",
                    "text": "[[1 4 6]\n [3 5 4]\n [1 6 2]]\n"
                }
            ],
            "source": [
                "A4[[2,2,1,1], [0,2,0,2]] = np.array([1,2,3,4])\n",
                "print(A4)"
            ]
        },
        {
            "attachments": {},
            "cell_type": "markdown",
            "metadata": {},
            "source": [
                "## Q6. [6 Points]\n",
                "\n",
                "From A1, retrieve $6,5$ following two steps:\n",
                "\n",
                "* Swap the last two columns, which gives \n",
                "$$\\begin{matrix} \n",
                "1\u0026 6\u00264    \\\\\n",
                "2\u0026 7\u0026 5     \\\\\n",
                "3\u0026 9\u0026 6    \\\\\n",
                "\\end{matrix}$$\n",
                "\n",
                "\n",
                "* For the updated array, retrieve the following using slicing \n",
                "$$\\begin{matrix} \n",
                "6 \u0026 4  \\\\\n",
                "7 \u0026 5  \\\\\n",
                "\\end{matrix}$$ \n",
                "\n",
                "* Use a `NumPy` function to retrieve the two diagonal element from the previous array. \n",
                "\n",
                "* Use comparison operation and Boolean operator to return `True` if at least one of the following statements is True. Otherwise, return `False`.\n",
                "\n",
                "\u003e* The first diagonal element we got from the last step is lower than 3\n",
                "\u003e* The second diagonal element we got from the last step is higher than 4.\n",
                "\n",
                "\n",
                "\n",
                ""
            ]
        },
        {
            "cell_type": "code",
            "execution_count": 20,
            "metadata": {},
            "outputs": [
                {
                    "name": "stdout",
                    "output_type": "stream",
                    "text": "[[1 4 6]\n [2 5 7]\n [3 6 9]]\n"
                }
            ],
            "source": [
                "print(A1)"
            ]
        },
        {
            "cell_type": "code",
            "execution_count": 21,
            "metadata": {},
            "outputs": [
                {
                    "name": "stdout",
                    "output_type": "stream",
                    "text": "[[1 6 4]\n [2 7 5]\n [3 9 6]]\n"
                }
            ],
            "source": [
                "A1_new = A1 [ :: , [0,2,1]]\n",
                "print(A1_new)"
            ]
        },
        {
            "attachments": {},
            "cell_type": "markdown",
            "metadata": {},
            "source": [
                "##"
            ]
        },
        {
            "cell_type": "code",
            "execution_count": 22,
            "metadata": {},
            "outputs": [
                {
                    "data": {
                        "text/plain": "array([[6, 4],\n       [7, 5]])"
                    },
                    "execution_count": 22,
                    "metadata": {},
                    "output_type": "execute_result"
                }
            ],
            "source": [
                "A1_new[0:2:, 1:3:]"
            ]
        },
        {
            "cell_type": "code",
            "execution_count": 23,
            "metadata": {},
            "outputs": [
                {
                    "data": {
                        "text/plain": "array([6, 5])"
                    },
                    "execution_count": 23,
                    "metadata": {},
                    "output_type": "execute_result"
                }
            ],
            "source": [
                "np.diag (A1_new[0:2:, 1:3:])\n",
                ""
            ]
        },
        {
            "cell_type": "code",
            "execution_count": 24,
            "metadata": {},
            "outputs": [
                {
                    "data": {
                        "text/plain": "True"
                    },
                    "execution_count": 24,
                    "metadata": {},
                    "output_type": "execute_result"
                }
            ],
            "source": [
                "diag = np.diag (A1_new[0:2:, 1:3:])\n",
                "diag[0]\u003c3 or diag[1] \u003e4"
            ]
        },
        {
            "cell_type": "code",
            "execution_count": 25,
            "metadata": {},
            "outputs": [],
            "source": [
                ""
            ]
        },
        {
            "cell_type": "code",
            "execution_count": 26,
            "metadata": {},
            "outputs": [],
            "source": [
                ""
            ]
        },
        {
            "cell_type": "code",
            "execution_count": 27,
            "metadata": {},
            "outputs": [],
            "source": [
                ""
            ]
        },
        {
            "cell_type": "code",
            "execution_count": 28,
            "metadata": {},
            "outputs": [],
            "source": [
                ""
            ]
        },
        {
            "cell_type": "code",
            "execution_count": 29,
            "metadata": {},
            "outputs": [],
            "source": [
                ""
            ]
        },
        {
            "cell_type": "code",
            "execution_count": 30,
            "metadata": {},
            "outputs": [],
            "source": [
                ""
            ]
        },
        {
            "cell_type": "code",
            "execution_count": 31,
            "metadata": {},
            "outputs": [],
            "source": [
                ""
            ]
        },
        {
            "cell_type": "code",
            "execution_count": 32,
            "metadata": {},
            "outputs": [],
            "source": [
                ""
            ]
        },
        {
            "cell_type": "code",
            "execution_count": 33,
            "metadata": {},
            "outputs": [],
            "source": [
                ""
            ]
        },
        {
            "cell_type": "code",
            "execution_count": 34,
            "metadata": {},
            "outputs": [],
            "source": [
                ""
            ]
        }
    ]
}
