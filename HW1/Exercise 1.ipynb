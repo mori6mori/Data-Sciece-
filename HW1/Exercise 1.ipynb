{
    "metadata": {
        "kernelspec": {
            "name": "python3",
            "display_name": "Python 3 (ipykernel)",
            "language": "python"
        }
    },
    "nbformat": 4,
    "nbformat_minor": 2,
    "cells": [
        {
            "attachments": {},
            "cell_type": "markdown",
            "metadata": {},
            "source": [
                "## Setting\n",
                "\n",
                "In this exercise, we work on practice questions on `list` and `tuple` object. "
            ]
        },
        {
            "attachments": {},
            "cell_type": "markdown",
            "metadata": {},
            "source": [
                "## Q1. [3 points]\n",
                "\n",
                "[`len(object)`](https://www.w3schools.com/python/ref_func_len.asp) function returns the number of elements in an object.\n",
                "\n",
                "* Create a tuple object `T1` that includes the following four elements:\n",
                " \n",
                "`'A', 'B', 'C', 1.5`\n",
                "\n",
                "* Report the number of elements in the tuple\n",
                "\n",
                ""
            ]
        },
        {
            "cell_type": "code",
            "execution_count": 12,
            "metadata": {},
            "outputs": [],
            "source": [
                " T1 = ('A', 'B', 'C', 1.5)"
            ]
        },
        {
            "attachments": {},
            "cell_type": "markdown",
            "metadata": {},
            "source": [
                ""
            ]
        },
        {
            "cell_type": "code",
            "execution_count": 13,
            "metadata": {},
            "outputs": [
                {
                    "data": {
                        "text/plain": "4"
                    },
                    "execution_count": 13,
                    "metadata": {},
                    "output_type": "execute_result"
                }
            ],
            "source": [
                " len(T1)"
            ]
        },
        {
            "attachments": {},
            "cell_type": "markdown",
            "metadata": {},
            "source": [
                "## Q2. [4 Points]\n",
                "\n",
                "* Use a `for` loop to print out data type of each element `T1`."
            ]
        },
        {
            "cell_type": "code",
            "execution_count": 14,
            "metadata": {},
            "outputs": [
                {
                    "name": "stdout",
                    "output_type": "stream",
                    "text": "\u003cclass 'str'\u003e\n\u003cclass 'str'\u003e\n\u003cclass 'str'\u003e\n\u003cclass 'float'\u003e\n"
                }
            ],
            "source": [
                "for x in T1:\n",
                "    print(type(x))\n",
                ""
            ]
        },
        {
            "cell_type": "code",
            "execution_count": 15,
            "metadata": {},
            "outputs": [],
            "source": [
                ""
            ]
        },
        {
            "attachments": {},
            "cell_type": "markdown",
            "metadata": {},
            "source": [
                "## Q3. [6 Points]\n",
                "\n",
                "* Fill in the following function `Concat(iterable)`. Inside the function, use a `for` loop to iteratively convert each element to str type and then concatenate them together. For the function, return the concatenated string. For example, if the iterable is  (1, 2, 3, \"A\", 1.4), the function should return \"123A1.4\"\n",
                "\n",
                "* Call this function on `T1` to concatenate the elements together."
            ]
        },
        {
            "cell_type": "code",
            "execution_count": 16,
            "metadata": {},
            "outputs": [],
            "source": [
                "def Concat(iterable):\n",
                "    str1 = \"\"\n",
                "    for x in iterable:\n",
                "        x = str(x)\n",
                "        str1 = str1 + x\n",
                "\n",
                "    return str1"
            ]
        },
        {
            "cell_type": "code",
            "execution_count": 17,
            "metadata": {},
            "outputs": [
                {
                    "data": {
                        "text/plain": "'ABC1.5'"
                    },
                    "execution_count": 17,
                    "metadata": {},
                    "output_type": "execute_result"
                }
            ],
            "source": [
                "Concat (T1)"
            ]
        },
        {
            "attachments": {},
            "cell_type": "markdown",
            "metadata": {},
            "source": [
                "## Q4. [4 Points]\n",
                "\n",
                "\n",
                "* Use [`list(iterable)`](https://www.w3schools.com/python/ref_func_list.asp#:~:text=The%20list()%20function%20creates,in%20the%20chapter%3A%20Python%20Lists.) to create a list `L1` that has the same content in `T1` \n",
                " \n",
                "\n",
                "* Make a copy of `L1`. Update this copy to create list  `L2`, which that includes the following elements \n",
                "`'A', 'B', 'C', 1.5, [5, 4]`\n",
                "\n",
                "* Make a copy of `L1`. Update this copy to create list  `L3`, which that includes the following elements \n",
                "`'A', 'B', 'C', 1.5,  5, 4`\n",
                " "
            ]
        },
        {
            "cell_type": "code",
            "execution_count": 18,
            "metadata": {},
            "outputs": [],
            "source": [
                "L1 = ['A', 'B', 'C', 1.5]"
            ]
        },
        {
            "cell_type": "code",
            "execution_count": 24,
            "metadata": {},
            "outputs": [
                {
                    "name": "stdout",
                    "output_type": "stream",
                    "text": "['A', 'B', 'C', 1.5, [5, 4]]\n"
                }
            ],
            "source": [
                "L2 = L1.copy()\n",
                "L2.append ([5,4])\n",
                "L3 = L1.copy()\n",
                "L3.append(5)\n",
                "L3.append(4)\n",
                "L4 = L1.copy()\n",
                "L4.extend([5,4])## append as separate\n",
                "print(L2)"
            ]
        },
        {
            "attachments": {},
            "cell_type": "markdown",
            "metadata": {},
            "source": [
                "## Q5. [4 Points]\n",
                "\n",
                "* Find the index of \"C\" in `L1`, use this information to insert \"D\" after \"C\". Display the updated `L1`\n",
                ""
            ]
        },
        {
            "attachments": {},
            "cell_type": "markdown",
            "metadata": {},
            "source": [
                ""
            ]
        },
        {
            "cell_type": "code",
            "execution_count": 10,
            "metadata": {},
            "outputs": [],
            "source": [
                "i = L1.index('C')"
            ]
        },
        {
            "cell_type": "code",
            "execution_count": 11,
            "metadata": {},
            "outputs": [],
            "source": [
                "L1[i] = 'D'"
            ]
        },
        {
            "cell_type": "code",
            "execution_count": 12,
            "metadata": {},
            "outputs": [
                {
                    "name": "stdout",
                    "output_type": "stream",
                    "text": "['A', 'B', 'D', 1.5]\n"
                }
            ],
            "source": [
                "print (L1)"
            ]
        },
        {
            "attachments": {},
            "cell_type": "markdown",
            "metadata": {},
            "source": [
                "## Q6. [4 Points]\n",
                "\n",
                "\n",
                "* Study this example [here](https://edstem.org/us/courses/34946/lessons/54934/slides/311258). Use the same idea to delete the last element from `[5, 4]` in `L2`. Display the updated value of `L2`. (It should be ['A', 'B', 'C', 1.5, [5]])\n",
                "\n",
                "\n",
                "\n",
                ""
            ]
        },
        {
            "cell_type": "code",
            "execution_count": 13,
            "metadata": {},
            "outputs": [],
            "source": [
                "L2[-1].remove(4)"
            ]
        },
        {
            "cell_type": "code",
            "execution_count": 14,
            "metadata": {},
            "outputs": [
                {
                    "name": "stdout",
                    "output_type": "stream",
                    "text": "['A', 'B', 'C', 1.5, [5]]\n"
                }
            ],
            "source": [
                "print (L2)"
            ]
        },
        {
            "cell_type": "code",
            "execution_count": 15,
            "metadata": {},
            "outputs": [],
            "source": [
                ""
            ]
        },
        {
            "cell_type": "code",
            "execution_count": 16,
            "metadata": {},
            "outputs": [],
            "source": [
                ""
            ]
        }
    ]
}
