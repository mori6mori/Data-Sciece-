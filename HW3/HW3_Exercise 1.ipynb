{
    "metadata": {
        "kernelspec": {
            "name": "python3",
            "display_name": "Python 3 (ipykernel)",
            "language": "python"
        }
    },
    "nbformat": 4,
    "nbformat_minor": 2,
    "cells": [
        {
            "cell_type": "code",
            "execution_count": 2,
            "metadata": {},
            "outputs": [],
            "source": [
                "import numpy as np"
            ]
        },
        {
            "attachments": {},
            "cell_type": "markdown",
            "metadata": {},
            "source": [
                "## Q1.  [6 Points]\n",
                "\n",
                "Define a string array `A` with the following strings.\n",
                "\n",
                "`[\"AA1\",\"s1\",\"1sss\",\"1sd\"]`\n",
                "\n",
                "*  Use array `A` to create array `B` that replaces each `s` with `S` in `A`. In this case, `B` array should have the following elements:\n",
                "`[\"AA1\",\"S1\",\"1SSS\",\"1Sd\"]` \n",
                "\n",
                "\n",
                "* Use array `A` to create array `C` that replaces `s` with `S` for at most 2 times for each string in `A`. In this case, `C` array should include the following elements:\n",
                "`[\"AA1\",\"S1\",\"1SSs\",\"1Sd\"]` \n",
                "\n",
                "* Based on array `A` and `B`, create `D` array that replaces all `s` with `S` for at most 2 strings in `A` . In this case, `D` array should include the following elements:\n",
                "`[\"AA1\",\"S1\",\"1SSS\",\"1sd\"]`. You should not use eye-balling in your answer, meaning even if we change array `A` and `B`, your cold should still work. You might find Boolean mask useful. \n",
                "\n",
                " \n",
                ""
            ]
        },
        {
            "cell_type": "code",
            "execution_count": 3,
            "metadata": {},
            "outputs": [],
            "source": [
                "A = np.array ([\"AA1\",\"s1\",\"1sss\",\"1sd\"])"
            ]
        },
        {
            "cell_type": "code",
            "execution_count": 4,
            "metadata": {},
            "outputs": [],
            "source": [
                "B = A.copy()\n",
                "B = np.char.replace(B, \"s\", \"S\", count=None)\n",
                ""
            ]
        },
        {
            "cell_type": "code",
            "execution_count": 5,
            "metadata": {},
            "outputs": [],
            "source": [
                "C = A.copy()\n",
                "C = np.char.replace(A, \"s\", \"S\", count = 2)\n",
                ""
            ]
        },
        {
            "cell_type": "code",
            "execution_count": 33,
            "metadata": {},
            "outputs": [
                {
                    "name": "stdout",
                    "output_type": "stream",
                    "text": "[False  True  True  True]\n[ True  True  True False]\n[False  True  True False]\n['AA1' 'S1' '1SSS' '1sd']\n"
                }
            ],
            "source": [
                "\n",
                "D = A.copy()\n",
                "#created a boolean array that returns true when A != B , =need to change \n",
                "B_M = A != B\n",
                "print(B_M)\n",
                "# returns the number of elements to replace (true) and cap it at 2 \n",
                "itemReplace = np.cumsum(B_M) \u003c= 2 \n",
                "print (itemReplace)\n",
                "#must need to replace and be less than 2 \n",
                "B_M = B_M * itemReplace\n",
                "print(B_M)\n",
                "#the element in D need to be replaced = element in B it need to be replaced to \n",
                "D[B_M] = B[B_M]\n",
                "print(D)\n",
                ""
            ]
        },
        {
            "attachments": {},
            "cell_type": "markdown",
            "metadata": {},
            "source": [
                "## Q2. [6 Points]\n",
                " \n",
                "\n",
                "Cal1 array has the following 3 strings indicating the calculations we want to perform\n",
                "\n",
                "[\"1+3+10\",\"29+29+11\",\"2+10+1\"]\n",
                "\n",
                "How do we compute the result? Implement the following:\n",
                "\n",
                "* Split each string into a list of sub-strings.  \n",
                "* Convert the array of lists to a list of lists using `.tolist()` method \n",
                "* Finish the rest of the work \n",
                "\n",
                "The final result should an array of 3 `int` values: 14, 69, 13."
            ]
        },
        {
            "cell_type": "code",
            "execution_count": 7,
            "metadata": {},
            "outputs": [
                {
                    "data": {
                        "text/plain": "array([list(['1', '3', '10']), list(['29', '29', '11']),\n       list(['2', '10', '1'])], dtype=object)"
                    },
                    "execution_count": 7,
                    "metadata": {},
                    "output_type": "execute_result"
                }
            ],
            "source": [
                "Cal1 = np.array ([\"1+3+10\",\"29+29+11\",\"2+10+1\"])\n",
                "Values = np.char.split(Cal1, \"+\")\n",
                "Values"
            ]
        },
        {
            "cell_type": "code",
            "execution_count": 8,
            "metadata": {},
            "outputs": [
                {
                    "data": {
                        "text/plain": "[['1', '3', '10'], ['29', '29', '11'], ['2', '10', '1']]"
                    },
                    "execution_count": 8,
                    "metadata": {},
                    "output_type": "execute_result"
                }
            ],
            "source": [
                " \n",
                " Values = Values.tolist()\n",
                " Values"
            ]
        },
        {
            "cell_type": "code",
            "execution_count": 37,
            "metadata": {},
            "outputs": [
                {
                    "data": {
                        "text/plain": "array([[ 1,  3, 10],\n       [29, 29, 11],\n       [ 2, 10,  1]])"
                    },
                    "execution_count": 37,
                    "metadata": {},
                    "output_type": "execute_result"
                }
            ],
            "source": [
                "Values = np.array(Values).astype(int)\n",
                "Values "
            ]
        },
        {
            "cell_type": "code",
            "execution_count": 38,
            "metadata": {},
            "outputs": [
                {
                    "data": {
                        "text/plain": "array([14, 69, 13])"
                    },
                    "execution_count": 38,
                    "metadata": {},
                    "output_type": "execute_result"
                }
            ],
            "source": [
                "\n",
                "np.sum(Values, axis= 1)"
            ]
        }
    ]
}
