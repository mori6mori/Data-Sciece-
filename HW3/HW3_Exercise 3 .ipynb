{
    "metadata": {
        "kernelspec": {
            "name": "python3",
            "display_name": "Python 3 (ipykernel)",
            "language": "python"
        }
    },
    "nbformat": 4,
    "nbformat_minor": 2,
    "cells": [
        {
            "cell_type": "code",
            "execution_count": 1,
            "metadata": {},
            "outputs": [],
            "source": [
                "import numpy as np\n",
                "import pandas as pd \n",
                "import pickle"
            ]
        },
        {
            "cell_type": "code",
            "execution_count": 2,
            "metadata": {},
            "outputs": [],
            "source": [
                "file = open('Q3Data', 'rb')\n",
                "Data=pickle.load(file)\n",
                "Sales=Data[\"Sales\"] "
            ]
        },
        {
            "attachments": {},
            "cell_type": "markdown",
            "metadata": {},
            "source": [
                "## Setting\n",
                "Sales array stores the sales over several weeks. For the last observational week, only sales from the first few days are observed. The sales are recorded in `Sales` array. The first 7 numbers give the daily sales from the first week. The next 7 numbers give the daily sales from the second week. ..."
            ]
        },
        {
            "cell_type": "code",
            "execution_count": 3,
            "metadata": {},
            "outputs": [
                {
                    "data": {
                        "text/plain": "array([4, 7, 7, 6, 0, 5, 3, 4, 5, 1, 2, 5, 6, 6, 6, 0, 0, 6, 1, 2, 6, 7,\n       4, 1, 6, 3, 5, 6, 3, 3, 5, 5, 2, 0, 6, 3, 2, 4, 2, 2, 5, 4, 2, 3,\n       2, 4, 1, 4, 6, 1, 5, 3, 6, 6, 6, 4, 5, 5, 3, 4, 4, 0, 5, 4, 6, 3,\n       3])"
                    },
                    "execution_count": 3,
                    "metadata": {},
                    "output_type": "execute_result"
                }
            ],
            "source": [
                "Sales"
            ]
        },
        {
            "attachments": {},
            "cell_type": "markdown",
            "metadata": {},
            "source": [
                "## Q1. [6 Points]\n",
                "\n",
                "\n",
                "* Do the following to help the analyst calculate the total sales for each week.  \n",
                "\n",
                "\u003e * Construct a 2-dimensional array `Sales2` from the 1-dimensional `Sales` array. Each row in `Sales2` represents a week, while each column represents a day of the week. For the last few days with unobserved sales, record `np.nan`. \n",
                "\n",
                "\n",
                "\n",
                ""
            ]
        },
        {
            "attachments": {},
            "cell_type": "markdown",
            "metadata": {},
            "source": [
                ""
            ]
        },
        {
            "cell_type": "code",
            "execution_count": 4,
            "metadata": {},
            "outputs": [
                {
                    "data": {
                        "text/plain": "array([[ 4.,  7.,  7.,  6.,  0.,  5.,  3.],\n       [ 4.,  5.,  1.,  2.,  5.,  6.,  6.],\n       [ 6.,  0.,  0.,  6.,  1.,  2.,  6.],\n       [ 7.,  4.,  1.,  6.,  3.,  5.,  6.],\n       [ 3.,  3.,  5.,  5.,  2.,  0.,  6.],\n       [ 3.,  2.,  4.,  2.,  2.,  5.,  4.],\n       [ 2.,  3.,  2.,  4.,  1.,  4.,  6.],\n       [ 1.,  5.,  3.,  6.,  6.,  6.,  4.],\n       [ 5.,  5.,  3.,  4.,  4.,  0.,  5.],\n       [ 4.,  6.,  3.,  3., nan, nan, nan]])"
                    },
                    "execution_count": 4,
                    "metadata": {},
                    "output_type": "execute_result"
                }
            ],
            "source": [
                "Sales2 = np.append(Sales, np.repeat(np.nan, 7-len(Sales)%7))\n",
                "Sales2 = Sales2.reshape(-1, 7)\n",
                "Sales2"
            ]
        },
        {
            "attachments": {},
            "cell_type": "markdown",
            "metadata": {},
            "source": [
                "## Q2 [4 Points]\n",
                "\n",
                "[`np.all`](https://numpy.org/doc/stable/reference/generated/numpy.all.html) is a function that tests whether all array elements along a given axis evaluate to True. \n",
                "\n",
                "[`np.any`](https://numpy.org/doc/stable/reference/generated/numpy.all.html) is a function that tests whether at least one array element along a given axis evaluate to True. \n",
                "\n",
                "* Based on `np.any`, create a Boolean array of values corresponding to each week. The Boolean value should give:\n",
                "\u003e* True: at least one observed day in the week has non-zero sales. \n",
                "\u003e * False: Every observed day in the week has zero sales. \n",
                "* Perform the previous task using `np.all`.\n",
                " "
            ]
        },
        {
            "cell_type": "code",
            "execution_count": 5,
            "metadata": {},
            "outputs": [
                {
                    "data": {
                        "text/plain": "array([ True,  True,  True,  True,  True,  True,  True,  True,  True,\n        True])"
                    },
                    "execution_count": 5,
                    "metadata": {},
                    "output_type": "execute_result"
                }
            ],
            "source": [
                "np.any((Sales2!=0), axis = 1)"
            ]
        },
        {
            "cell_type": "code",
            "execution_count": 8,
            "metadata": {},
            "outputs": [
                {
                    "data": {
                        "text/plain": "array([ True,  True,  True,  True,  True,  True,  True,  True,  True,\n        True])"
                    },
                    "execution_count": 8,
                    "metadata": {},
                    "output_type": "execute_result"
                }
            ],
            "source": [
                "#how to return true with all when only one has non zero \n",
                "~(np.all((Sales2==0), axis = 1))"
            ]
        }
    ]
}
