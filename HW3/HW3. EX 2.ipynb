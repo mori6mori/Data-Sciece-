{
    "metadata": {
        "kernelspec": {
            "name": "python3",
            "display_name": "Python 3 (ipykernel)",
            "language": "python"
        }
    },
    "nbformat": 4,
    "nbformat_minor": 4,
    "cells": [
        {
            "cell_type": "code",
            "execution_count": 27,
            "metadata": {},
            "outputs": [],
            "source": [
                "import numpy as np\n",
                "import pandas as pd\n",
                "import pickle\n",
                "import math\n",
                "with open('Return', 'rb') as handle:\n",
                "    Return = pickle.load(handle)\n",
                ""
            ]
        },
        {
            "attachments": {},
            "cell_type": "markdown",
            "metadata": {},
            "source": [
                "## Setting\n",
                "\n",
                "An analyst needs to do the business planning using array `Return`. \n",
                "\n",
                "* Each column represents a department. From left to right: `D1`, `D2`, ...\n",
                "* Each rows represents a business plan. From top to bottom: `P1`, `P2`, ...\n",
                "* Each cell represents the return if a department adopts a business plan.  \n",
                "* If a plan is not feasible for a department, the analyst uses 999 for the return, which is much higher than the highest possible return.\n",
                "\n",
                "**Your answer should NOT be based on eye-balling. In other words, if we change the data set by adding more rows or columns, your result should be robust enough to handle the different data set.** "
            ]
        },
        {
            "cell_type": "code",
            "execution_count": 28,
            "metadata": {},
            "outputs": [
                {
                    "data": {
                        "text/plain": "array([[999,  16,  15,   1,  -2],\n       [ 18,   9, 999,  18,  20],\n       [999,  15,  -2,   5,  15],\n       [  4, 999,  -1,  15, 999],\n       [  1,  13, 999, 999,  12],\n       [999, 999,   9,  20, 999],\n       [  1,   7,  12,   7, 999],\n       [999, 999,   2, 999,  20],\n       [ 10, 999,  12,   5,  -1],\n       [  9,  13, 999, 999,  18]])"
                    },
                    "execution_count": 28,
                    "metadata": {},
                    "output_type": "execute_result"
                }
            ],
            "source": [
                "Return"
            ]
        },
        {
            "attachments": {},
            "cell_type": "markdown",
            "metadata": {},
            "source": [
                "## Q1. [4 Points] \n",
                "\n",
                "Create the following two string arrays to store department names and \n",
                "\n",
                "* Department: `D1`, `D2`, `D3`, ...\n",
                "* Plan: `P1`, `P2`, `P3`, ...\n",
                "\n",
                "Through the exercise, whenever we ask \"which department\" or \"which plan\", please report the string name instead of the index.\n",
                "\n",
                ""
            ]
        },
        {
            "cell_type": "code",
            "execution_count": 29,
            "metadata": {},
            "outputs": [],
            "source": [
                "shape = Return.shape\n",
                "number = np.arange (1, shape[1]+1)\n",
                "Department= np.char.add(\"D\", number.astype(str))\n",
                "number2 = np.arange (1, shape[0]+1)\n",
                "Plan= np.char.add(\"P\", number2.astype(str))"
            ]
        },
        {
            "attachments": {},
            "cell_type": "markdown",
            "metadata": {},
            "source": [
                "## Q2. [10 Points]\n",
                "\n",
                "* Among all the **unique** return values from the feasible plans, what is the 4th highest value? \n",
                "\n",
                "* Find all the department/plan combinations that give this value. Report the combinations in an array that contains `Dx:Py`, `Dx:Py`, ... using `np.char`. For example, `[\"D1:P1\", \"D3:P3\"]`  The order of the elements does not matter. "
            ]
        },
        {
            "cell_type": "code",
            "execution_count": 40,
            "metadata": {},
            "outputs": [
                {
                    "name": "stdout",
                    "output_type": "stream",
                    "text": "[[nan 16. 15.  1. -2.]\n [18.  9. nan 18. 20.]\n [nan 15. -2.  5. 15.]\n [ 4. nan -1. 15. nan]\n [ 1. 13. nan nan 12.]\n [nan nan  9. 20. nan]\n [ 1.  7. 12.  7. nan]\n [nan nan  2. nan 20.]\n [10. nan 12.  5. -1.]\n [ 9. 13. nan nan 18.]]\n15.0\n"
                }
            ],
            "source": [
                "Return_2 = np.where (Return == 999, np.nan, Return)\n",
                "print(Return_2)\n",
                "R= np.sort(np.unique (Return_2))[-5]\n",
                "\n",
                "print(R)\n",
                ""
            ]
        },
        {
            "cell_type": "code",
            "execution_count": 54,
            "metadata": {},
            "outputs": [
                {
                    "name": "stdout",
                    "output_type": "stream",
                    "text": "['D3' 'D2' 'D5' 'D4']\n"
                }
            ],
            "source": [
                "\n",
                "p =Plan[np.where (Return == R)[0]]\n",
                "d = Department[np.where (Return == R)[1]]\n",
                "print(d)"
            ]
        },
        {
            "cell_type": "code",
            "execution_count": 55,
            "metadata": {},
            "outputs": [
                {
                    "data": {
                        "text/plain": "array(['P1:D3', 'P3:D2', 'P3:D5', 'P4:D4'], dtype='\u003cU45')"
                    },
                    "execution_count": 55,
                    "metadata": {},
                    "output_type": "execute_result"
                }
            ],
            "source": [
                "p= np.char.add(p.astype(str), \":\")\n",
                "np.char.add(p, d.astype(str))"
            ]
        },
        {
            "cell_type": "code",
            "execution_count": 8,
            "metadata": {},
            "outputs": [],
            "source": [
                " "
            ]
        },
        {
            "attachments": {},
            "cell_type": "markdown",
            "metadata": {},
            "source": [
                "## Q3. [14 Points]\n",
                "\n",
                " \n",
                "* Find the best feasible plan for each department. Report the information using a `DataFrame` with the following format. The correct answer could differ from the cell values. Only report one plan for each department if there are ties. \n",
                "\n",
                "\u003ctable\u003e\n",
                "    \u003ctr\u003e\n",
                "        \u003cth\u003e\u003c/th\u003e\n",
                "        \u003cth\u003eDepartment\u003c/th\u003e\n",
                "        \u003cth\u003eBestPlan\u003c/th\u003e\n",
                "    \u003c/tr\u003e\n",
                "    \u003ctr\u003e\n",
                "        \u003cth\u003e0\u003c/th\u003e\n",
                "        \u003ctd\u003eD1\u003c/td\u003e\n",
                "        \u003ctd\u003eP2\u003c/td\u003e\n",
                "    \u003c/tr\u003e\n",
                "    \u003ctr\u003e\n",
                "        \u003cth\u003e1\u003c/th\u003e\n",
                "        \u003ctd\u003eD2\u003c/td\u003e\n",
                "        \u003ctd\u003eP2\u003c/td\u003e\n",
                "    \u003c/tr\u003e\n",
                "    \u003ctr\u003e\n",
                "        \u003cth\u003e2\u003c/th\u003e\n",
                "        \u003ctd\u003eD3\u003c/td\u003e\n",
                "        \u003ctd\u003eP3\u003c/td\u003e\n",
                "    \u003c/tr\u003e\n",
                "        \u003ctr\u003e\n",
                "        \u003cth\u003e3\u003c/th\u003e\n",
                "        \u003ctd\u003eD4\u003c/td\u003e\n",
                "        \u003ctd\u003eP2\u003c/td\u003e\n",
                "    \u003c/tr\u003e\n",
                "        \u003ctr\u003e\n",
                "        \u003cth\u003e4\u003c/th\u003e\n",
                "        \u003ctd\u003eD5\u003c/td\u003e\n",
                "        \u003ctd\u003eP4\u003c/td\u003e\n",
                "    \u003c/tr\u003e\n",
                "\u003c/table\u003e\n",
                "\n",
                "\n",
                "* Report the total profit under the strategy you found.\n",
                "\n",
                "* There might be ties. Find how many strategies each department has to achieve the same total profit. Present the result in a `DataFrame` with the following format. The correct answer could differ from the cell values.\n",
                "\n",
                "\u003ctable\u003e\n",
                "    \u003ctr\u003e\n",
                "        \u003cth\u003e\u003c/th\u003e\n",
                "        \u003cth\u003eDepartment\u003c/th\u003e\n",
                "        \u003cth\u003eNumberOfPlans\u003c/th\u003e\n",
                "    \u003c/tr\u003e\n",
                "    \u003ctr\u003e\n",
                "        \u003cth\u003e0\u003c/th\u003e\n",
                "        \u003ctd\u003eD1\u003c/td\u003e\n",
                "        \u003ctd\u003e2\u003c/td\u003e\n",
                "    \u003c/tr\u003e\n",
                "    \u003ctr\u003e\n",
                "        \u003cth\u003e1\u003c/th\u003e\n",
                "        \u003ctd\u003eD2\u003c/td\u003e\n",
                "        \u003ctd\u003e2\u003c/td\u003e\n",
                "    \u003c/tr\u003e\n",
                "    \u003ctr\u003e\n",
                "        \u003cth\u003e2\u003c/th\u003e\n",
                "        \u003ctd\u003eD3\u003c/td\u003e\n",
                "        \u003ctd\u003e1\u003c/td\u003e\n",
                "    \u003c/tr\u003e\n",
                "        \u003ctr\u003e\n",
                "        \u003cth\u003e3\u003c/th\u003e\n",
                "        \u003ctd\u003eD4\u003c/td\u003e\n",
                "        \u003ctd\u003e1\u003c/td\u003e\n",
                "    \u003c/tr\u003e\n",
                "        \u003ctr\u003e\n",
                "        \u003cth\u003e4\u003c/th\u003e\n",
                "        \u003ctd\u003eD5\u003c/td\u003e\n",
                "        \u003ctd\u003e1\u003c/td\u003e\n",
                "    \u003c/tr\u003e\n",
                "\u003c/table\u003e\n",
                "\n",
                ""
            ]
        },
        {
            "cell_type": "code",
            "execution_count": 9,
            "metadata": {},
            "outputs": [
                {
                    "name": "stdout",
                    "output_type": "stream",
                    "text": "[1 0 0 5 1]\n"
                },
                {
                    "data": {
                        "text/html": "\u003cdiv\u003e\n\u003cstyle scoped\u003e\n    .dataframe tbody tr th:only-of-type {\n        vertical-align: middle;\n    }\n\n    .dataframe tbody tr th {\n        vertical-align: top;\n    }\n\n    .dataframe thead th {\n        text-align: right;\n    }\n\u003c/style\u003e\n\u003ctable border=\"1\" class=\"dataframe\"\u003e\n  \u003cthead\u003e\n    \u003ctr style=\"text-align: right;\"\u003e\n      \u003cth\u003e\u003c/th\u003e\n      \u003cth\u003eDepartment\u003c/th\u003e\n      \u003cth\u003eBestPlan\u003c/th\u003e\n    \u003c/tr\u003e\n  \u003c/thead\u003e\n  \u003ctbody\u003e\n    \u003ctr\u003e\n      \u003cth\u003e0\u003c/th\u003e\n      \u003ctd\u003eD1\u003c/td\u003e\n      \u003ctd\u003eP2\u003c/td\u003e\n    \u003c/tr\u003e\n    \u003ctr\u003e\n      \u003cth\u003e1\u003c/th\u003e\n      \u003ctd\u003eD2\u003c/td\u003e\n      \u003ctd\u003eP1\u003c/td\u003e\n    \u003c/tr\u003e\n    \u003ctr\u003e\n      \u003cth\u003e2\u003c/th\u003e\n      \u003ctd\u003eD3\u003c/td\u003e\n      \u003ctd\u003eP1\u003c/td\u003e\n    \u003c/tr\u003e\n    \u003ctr\u003e\n      \u003cth\u003e3\u003c/th\u003e\n      \u003ctd\u003eD4\u003c/td\u003e\n      \u003ctd\u003eP6\u003c/td\u003e\n    \u003c/tr\u003e\n    \u003ctr\u003e\n      \u003cth\u003e4\u003c/th\u003e\n      \u003ctd\u003eD5\u003c/td\u003e\n      \u003ctd\u003eP2\u003c/td\u003e\n    \u003c/tr\u003e\n  \u003c/tbody\u003e\n\u003c/table\u003e\n\u003c/div\u003e",
                        "text/plain": "  Department BestPlan\n0         D1       P2\n1         D2       P1\n2         D3       P1\n3         D4       P6\n4         D5       P2"
                    },
                    "metadata": {},
                    "output_type": "display_data"
                }
            ],
            "source": [
                "\n",
                "bp = np.nanargmax(Return_2, axis = 0)\n",
                "print(bp)\n",
                "\n",
                "bp_plan =Plan[bp]\n",
                "best_plan = {\"Department\":Department, \"BestPlan\": bp_plan}\n",
                "best_plan = pd.DataFrame(best_plan)\n",
                "display(best_plan)"
            ]
        },
        {
            "cell_type": "code",
            "execution_count": 10,
            "metadata": {},
            "outputs": [
                {
                    "name": "stdout",
                    "output_type": "stream",
                    "text": "max profit each Department:  [18. 16. 15. 20. 20.]\n"
                },
                {
                    "data": {
                        "text/plain": "89.0"
                    },
                    "execution_count": 10,
                    "metadata": {},
                    "output_type": "execute_result"
                }
            ],
            "source": [
                "profit = np.nanmax(Return_2, axis = 0)\n",
                "print (\"max profit each Department: \", profit)\n",
                "\n",
                "total_profit = np.sum(profit)\n",
                "total_profit\n",
                "#number = np.unique (Return[Return == profit], return_counts=True )\n",
                "#numberOfPlan = {\"Department\":Department, \"NumberOfPlans\": number}"
            ]
        },
        {
            "cell_type": "code",
            "execution_count": 11,
            "metadata": {},
            "outputs": [],
            "source": [
                "#Report the total profit under the strategy you found."
            ]
        },
        {
            "cell_type": "code",
            "execution_count": 12,
            "metadata": {},
            "outputs": [],
            "source": [
                " # number of strategies to achieve same profit"
            ]
        },
        {
            "cell_type": "code",
            "execution_count": 13,
            "metadata": {},
            "outputs": [
                {
                    "data": {
                        "text/html": "\u003cdiv\u003e\n\u003cstyle scoped\u003e\n    .dataframe tbody tr th:only-of-type {\n        vertical-align: middle;\n    }\n\n    .dataframe tbody tr th {\n        vertical-align: top;\n    }\n\n    .dataframe thead th {\n        text-align: right;\n    }\n\u003c/style\u003e\n\u003ctable border=\"1\" class=\"dataframe\"\u003e\n  \u003cthead\u003e\n    \u003ctr style=\"text-align: right;\"\u003e\n      \u003cth\u003e\u003c/th\u003e\n      \u003cth\u003eDepartment\u003c/th\u003e\n      \u003cth\u003eNumberOfPlans\u003c/th\u003e\n    \u003c/tr\u003e\n  \u003c/thead\u003e\n  \u003ctbody\u003e\n    \u003ctr\u003e\n      \u003cth\u003e0\u003c/th\u003e\n      \u003ctd\u003eD1\u003c/td\u003e\n      \u003ctd\u003e1\u003c/td\u003e\n    \u003c/tr\u003e\n    \u003ctr\u003e\n      \u003cth\u003e1\u003c/th\u003e\n      \u003ctd\u003eD2\u003c/td\u003e\n      \u003ctd\u003e1\u003c/td\u003e\n    \u003c/tr\u003e\n    \u003ctr\u003e\n      \u003cth\u003e2\u003c/th\u003e\n      \u003ctd\u003eD3\u003c/td\u003e\n      \u003ctd\u003e1\u003c/td\u003e\n    \u003c/tr\u003e\n    \u003ctr\u003e\n      \u003cth\u003e3\u003c/th\u003e\n      \u003ctd\u003eD4\u003c/td\u003e\n      \u003ctd\u003e1\u003c/td\u003e\n    \u003c/tr\u003e\n    \u003ctr\u003e\n      \u003cth\u003e4\u003c/th\u003e\n      \u003ctd\u003eD5\u003c/td\u003e\n      \u003ctd\u003e2\u003c/td\u003e\n    \u003c/tr\u003e\n  \u003c/tbody\u003e\n\u003c/table\u003e\n\u003c/div\u003e",
                        "text/plain": "  Department  NumberOfPlans\n0         D1              1\n1         D2              1\n2         D3              1\n3         D4              1\n4         D5              2"
                    },
                    "metadata": {},
                    "output_type": "display_data"
                }
            ],
            "source": [
                "repeats = np.sum(Return == profit, axis = 0)\n",
                "NumberOfPlans = {\"Department\":Department, \"NumberOfPlans\": repeats}\n",
                "NumberOfPlans = pd.DataFrame(NumberOfPlans)\n",
                "display(NumberOfPlans)"
            ]
        },
        {
            "cell_type": "code",
            "execution_count": 14,
            "metadata": {},
            "outputs": [],
            "source": [
                " "
            ]
        },
        {
            "attachments": {},
            "cell_type": "markdown",
            "metadata": {},
            "source": [
                "## Q4. [10 Points]\n",
                "\n",
                "The analyst aims to find a combination with the second-highest total return value. To do so, she needs to see which department can get the smallest **non-zero** drop in total return if she assigns a different plan to the department.\n",
                "\n",
                "* Find one combination that satisfies the statement. Report the information using a `DataFrame` with the following format. The correct answer could differ from the cell values. Only report one plan for each department if there are ties. \n",
                "\n",
                "\u003ctable\u003e\n",
                "    \u003ctr\u003e\n",
                "        \u003cth\u003e\u003c/th\u003e\n",
                "        \u003cth\u003eDepartment\u003c/th\u003e\n",
                "        \u003cth\u003eBestPlan\u003c/th\u003e\n",
                "    \u003c/tr\u003e\n",
                "    \u003ctr\u003e\n",
                "        \u003cth\u003e0\u003c/th\u003e\n",
                "        \u003ctd\u003eD1\u003c/td\u003e\n",
                "        \u003ctd\u003eP2\u003c/td\u003e\n",
                "    \u003c/tr\u003e\n",
                "    \u003ctr\u003e\n",
                "        \u003cth\u003e1\u003c/th\u003e\n",
                "        \u003ctd\u003eD2\u003c/td\u003e\n",
                "        \u003ctd\u003eP2\u003c/td\u003e\n",
                "    \u003c/tr\u003e\n",
                "    \u003ctr\u003e\n",
                "        \u003cth\u003e2\u003c/th\u003e\n",
                "        \u003ctd\u003eD3\u003c/td\u003e\n",
                "        \u003ctd\u003eP3\u003c/td\u003e\n",
                "    \u003c/tr\u003e\n",
                "        \u003ctr\u003e\n",
                "        \u003cth\u003e3\u003c/th\u003e\n",
                "        \u003ctd\u003eD4\u003c/td\u003e\n",
                "        \u003ctd\u003eP2\u003c/td\u003e\n",
                "    \u003c/tr\u003e\n",
                "        \u003ctr\u003e\n",
                "        \u003cth\u003e4\u003c/th\u003e\n",
                "        \u003ctd\u003eD5\u003c/td\u003e\n",
                "        \u003ctd\u003eP4\u003c/td\u003e\n",
                "    \u003c/tr\u003e\n",
                "\u003c/table\u003e \n",
                "\n",
                "* Report the total profit under this combination.\n",
                " \n",
                "\n",
                " \n",
                ""
            ]
        },
        {
            "cell_type": "code",
            "execution_count": 15,
            "metadata": {},
            "outputs": [
                {
                    "name": "stdout",
                    "output_type": "stream",
                    "text": "[[nan nan nan 19. 22.]\n [nan  7. nan  2. nan]\n [nan  1. 17. 15.  5.]\n [14. nan 16.  5. nan]\n [17.  3. nan nan  8.]\n [nan nan  6. nan nan]\n [17.  9.  3. 13. nan]\n [nan nan 13. nan nan]\n [ 8. nan  3. 15. 21.]\n [ 9.  3. nan nan  2.]]\n[[2]\n [1]]\n"
                },
                {
                    "data": {
                        "text/html": "\u003cdiv\u003e\n\u003cstyle scoped\u003e\n    .dataframe tbody tr th:only-of-type {\n        vertical-align: middle;\n    }\n\n    .dataframe tbody tr th {\n        vertical-align: top;\n    }\n\n    .dataframe thead th {\n        text-align: right;\n    }\n\u003c/style\u003e\n\u003ctable border=\"1\" class=\"dataframe\"\u003e\n  \u003cthead\u003e\n    \u003ctr style=\"text-align: right;\"\u003e\n      \u003cth\u003e\u003c/th\u003e\n      \u003cth\u003eDepartment\u003c/th\u003e\n      \u003cth\u003eBestPlan\u003c/th\u003e\n    \u003c/tr\u003e\n  \u003c/thead\u003e\n  \u003ctbody\u003e\n    \u003ctr\u003e\n      \u003cth\u003e0\u003c/th\u003e\n      \u003ctd\u003eD1\u003c/td\u003e\n      \u003ctd\u003eP2\u003c/td\u003e\n    \u003c/tr\u003e\n    \u003ctr\u003e\n      \u003cth\u003e1\u003c/th\u003e\n      \u003ctd\u003eD2\u003c/td\u003e\n      \u003ctd\u003eP3\u003c/td\u003e\n    \u003c/tr\u003e\n    \u003ctr\u003e\n      \u003cth\u003e2\u003c/th\u003e\n      \u003ctd\u003eD3\u003c/td\u003e\n      \u003ctd\u003eP1\u003c/td\u003e\n    \u003c/tr\u003e\n    \u003ctr\u003e\n      \u003cth\u003e3\u003c/th\u003e\n      \u003ctd\u003eD4\u003c/td\u003e\n      \u003ctd\u003eP6\u003c/td\u003e\n    \u003c/tr\u003e\n    \u003ctr\u003e\n      \u003cth\u003e4\u003c/th\u003e\n      \u003ctd\u003eD5\u003c/td\u003e\n      \u003ctd\u003eP2\u003c/td\u003e\n    \u003c/tr\u003e\n  \u003c/tbody\u003e\n\u003c/table\u003e\n\u003c/div\u003e",
                        "text/plain": "  Department BestPlan\n0         D1       P2\n1         D2       P3\n2         D3       P1\n3         D4       P6\n4         D5       P2"
                    },
                    "metadata": {},
                    "output_type": "display_data"
                }
            ],
            "source": [
                "\n",
                "Return_3 = Return_2.copy()\n",
                "# get rid of the max \n",
                "Return_3 = np.where (Return_3 == profit, np.nan, Return_3)\n",
                "#print(np.sort(Return_3))\n",
                "difference =  profit - Return_3\n",
                "print(difference)\n",
                "loc = np.nanmin(difference)\n",
                "arr = np.array(np.where(difference == loc))\n",
                "print(arr)\n",
                "plan_2 = Plan[arr[0]]\n",
                "\n",
                "\n",
                "bp_plan2 = bp_plan.copy()\n",
                "\n",
                "bp_plan2[arr[1]] = plan_2\n",
                "\n",
                "\n",
                "best_plan2 = {\"Department\":Department, \"BestPlan\": bp_plan2}\n",
                "best_plan2 = pd.DataFrame(best_plan2)\n",
                "display(best_plan2)\n",
                " "
            ]
        },
        {
            "cell_type": "code",
            "execution_count": 16,
            "metadata": {},
            "outputs": [],
            "source": [
                " "
            ]
        },
        {
            "cell_type": "code",
            "execution_count": 17,
            "metadata": {},
            "outputs": [],
            "source": [
                " "
            ]
        },
        {
            "cell_type": "code",
            "execution_count": 18,
            "metadata": {},
            "outputs": [],
            "source": [
                ""
            ]
        }
    ]
}
